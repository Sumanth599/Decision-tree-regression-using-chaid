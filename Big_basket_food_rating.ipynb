{
  "nbformat": 4,
  "nbformat_minor": 0,
  "metadata": {
    "colab": {
      "provenance": []
    },
    "kernelspec": {
      "name": "python3",
      "display_name": "Python 3"
    },
    "language_info": {
      "name": "python"
    }
  },
  "cells": [
    {
      "cell_type": "markdown",
      "source": [
        "***Problem Statement:***\n",
        "\n",
        "Big Basket, a food delivery service operating in multiple countries, aims to improve the overall customer experience by analysing the ratings provided by its customers. The target variable in this problem is the rating given by the customers after they receive their food delivery. The company wants to understand the factors that influence the customers' ratings and identify the areas that need improvement.\n",
        "The challenge for Big Basket is to collect and analyse the ratings data from multiple countries, as customer preferences and expectations may vary across different regions. Additionally, the company needs to develop a system that can capture the feedback from customers in a timely and efficient manner to ensure that the issues are addressed promptly.\n",
        "Thus, the problem statement for Big Basket is to develop a data-driven approach to understand the factors influencing customer ratings across different countries, and to use this information to enhance the overall customer experience by addressing the areas that require improvement.\n",
        "\n",
        "**Description of Data:**\n",
        "\n",
        "• Restaurant Id: Unique id of every restaurant across various cities of the     world\n",
        "• Restaurant Name: Name of the restaurant\n",
        "\n",
        "• Country Code: Country in which restaurant is located\n",
        "\n",
        "• City: City in which restaurant is located\n",
        "\n",
        "• Address: Address of the restaurant\n",
        "\n",
        "• Locality: Location in the city\n",
        "\n",
        "• Locality Verbose: Detailed description of the locality\n",
        "\n",
        "• Longitude: Longitude coordinate of the restaurant's location\n",
        "\n",
        "• Latitude: Latitude coordinate of the restaurant's location\n",
        "\n",
        "• Cuisines: Cuisines offered by the restaurant\n",
        "\n",
        "• Average Cost for two: Cost for two people in different currencies \n",
        "• Currency: Currency of the country\n",
        "\n",
        "• Has Table booking: yes/no\n",
        "\n",
        "• Has Online delivery: yes/ no\n",
        "\n",
        "• Is delivering: yes/ no\n",
        "\n",
        "• Switch to order menu: yes/no\n",
        "\n",
        "• Price range: range of price of food\n",
        "\n",
        "• Aggregate Rating: Average rating out of 5\n",
        "\n",
        "• Rating colour: depending upon the average rating colour\n",
        "\n",
        "• Rating text: text on the basis of rating of rating\n",
        "\n",
        "• Votes: Number of ratings casted by people\n"
      ],
      "metadata": {
        "id": "0xvTCEpUkF7G"
      }
    },
    {
      "cell_type": "code",
      "execution_count": 1,
      "metadata": {
        "id": "bYBDWRCc8G_6"
      },
      "outputs": [],
      "source": [
        "import numpy as np\n",
        "import pandas as pd\n",
        "import matplotlib.pyplot as plt\n",
        "import seaborn as sns\n",
        "%matplotlib inline"
      ]
    },
    {
      "cell_type": "code",
      "source": [
        "df = pd.read_csv('/content/Big Basket Food Delivery.csv',encoding='latin-1')"
      ],
      "metadata": {
        "id": "OmQS2ICy81q7"
      },
      "execution_count": 2,
      "outputs": []
    },
    {
      "cell_type": "code",
      "source": [
        "df.head()"
      ],
      "metadata": {
        "colab": {
          "base_uri": "https://localhost:8080/",
          "height": 854
        },
        "id": "TXdY76BzDCfi",
        "outputId": "aef614c9-685c-4204-d9d7-5e8f0ee96dcb"
      },
      "execution_count": 3,
      "outputs": [
        {
          "output_type": "execute_result",
          "data": {
            "text/plain": [
              "   Restaurant ID         Restaurant Name  Country Code              City  \\\n",
              "0        6317637        Le Petit Souffle           162       Makati City   \n",
              "1        6304287        Izakaya Kikufuji           162       Makati City   \n",
              "2        6300002  Heat - Edsa Shangri-La           162  Mandaluyong City   \n",
              "3        6318506                    Ooma           162  Mandaluyong City   \n",
              "4        6314302             Sambo Kojin           162  Mandaluyong City   \n",
              "\n",
              "                                             Address  \\\n",
              "0  Third Floor, Century City Mall, Kalayaan Avenu...   \n",
              "1  Little Tokyo, 2277 Chino Roces Avenue, Legaspi...   \n",
              "2  Edsa Shangri-La, 1 Garden Way, Ortigas, Mandal...   \n",
              "3  Third Floor, Mega Fashion Hall, SM Megamall, O...   \n",
              "4  Third Floor, Mega Atrium, SM Megamall, Ortigas...   \n",
              "\n",
              "                                     Locality  \\\n",
              "0   Century City Mall, Poblacion, Makati City   \n",
              "1  Little Tokyo, Legaspi Village, Makati City   \n",
              "2  Edsa Shangri-La, Ortigas, Mandaluyong City   \n",
              "3      SM Megamall, Ortigas, Mandaluyong City   \n",
              "4      SM Megamall, Ortigas, Mandaluyong City   \n",
              "\n",
              "                                    Locality Verbose   Longitude   Latitude  \\\n",
              "0  Century City Mall, Poblacion, Makati City, Mak...  121.027535  14.565443   \n",
              "1  Little Tokyo, Legaspi Village, Makati City, Ma...  121.014101  14.553708   \n",
              "2  Edsa Shangri-La, Ortigas, Mandaluyong City, Ma...  121.056831  14.581404   \n",
              "3  SM Megamall, Ortigas, Mandaluyong City, Mandal...  121.056475  14.585318   \n",
              "4  SM Megamall, Ortigas, Mandaluyong City, Mandal...  121.057508  14.584450   \n",
              "\n",
              "                           Cuisines  ...          Currency Has Table booking  \\\n",
              "0        French, Japanese, Desserts  ...  Botswana Pula(P)               Yes   \n",
              "1                          Japanese  ...  Botswana Pula(P)               Yes   \n",
              "2  Seafood, Asian, Filipino, Indian  ...  Botswana Pula(P)               Yes   \n",
              "3                   Japanese, Sushi  ...  Botswana Pula(P)                No   \n",
              "4                  Japanese, Korean  ...  Botswana Pula(P)               Yes   \n",
              "\n",
              "  Has Online delivery Is delivering now Switch to order menu Price range  \\\n",
              "0                  No                No                   No           3   \n",
              "1                  No                No                   No           3   \n",
              "2                  No                No                   No           4   \n",
              "3                  No                No                   No           4   \n",
              "4                  No                No                   No           4   \n",
              "\n",
              "  Aggregate rating  Rating color Rating text Votes  \n",
              "0              4.8    Dark Green   Excellent   314  \n",
              "1              4.5    Dark Green   Excellent   591  \n",
              "2              4.4         Green   Very Good   270  \n",
              "3              4.9    Dark Green   Excellent   365  \n",
              "4              4.8    Dark Green   Excellent   229  \n",
              "\n",
              "[5 rows x 21 columns]"
            ],
            "text/html": [
              "\n",
              "  <div id=\"df-abd625fe-560e-437b-bb40-707e710ca86d\">\n",
              "    <div class=\"colab-df-container\">\n",
              "      <div>\n",
              "<style scoped>\n",
              "    .dataframe tbody tr th:only-of-type {\n",
              "        vertical-align: middle;\n",
              "    }\n",
              "\n",
              "    .dataframe tbody tr th {\n",
              "        vertical-align: top;\n",
              "    }\n",
              "\n",
              "    .dataframe thead th {\n",
              "        text-align: right;\n",
              "    }\n",
              "</style>\n",
              "<table border=\"1\" class=\"dataframe\">\n",
              "  <thead>\n",
              "    <tr style=\"text-align: right;\">\n",
              "      <th></th>\n",
              "      <th>Restaurant ID</th>\n",
              "      <th>Restaurant Name</th>\n",
              "      <th>Country Code</th>\n",
              "      <th>City</th>\n",
              "      <th>Address</th>\n",
              "      <th>Locality</th>\n",
              "      <th>Locality Verbose</th>\n",
              "      <th>Longitude</th>\n",
              "      <th>Latitude</th>\n",
              "      <th>Cuisines</th>\n",
              "      <th>...</th>\n",
              "      <th>Currency</th>\n",
              "      <th>Has Table booking</th>\n",
              "      <th>Has Online delivery</th>\n",
              "      <th>Is delivering now</th>\n",
              "      <th>Switch to order menu</th>\n",
              "      <th>Price range</th>\n",
              "      <th>Aggregate rating</th>\n",
              "      <th>Rating color</th>\n",
              "      <th>Rating text</th>\n",
              "      <th>Votes</th>\n",
              "    </tr>\n",
              "  </thead>\n",
              "  <tbody>\n",
              "    <tr>\n",
              "      <th>0</th>\n",
              "      <td>6317637</td>\n",
              "      <td>Le Petit Souffle</td>\n",
              "      <td>162</td>\n",
              "      <td>Makati City</td>\n",
              "      <td>Third Floor, Century City Mall, Kalayaan Avenu...</td>\n",
              "      <td>Century City Mall, Poblacion, Makati City</td>\n",
              "      <td>Century City Mall, Poblacion, Makati City, Mak...</td>\n",
              "      <td>121.027535</td>\n",
              "      <td>14.565443</td>\n",
              "      <td>French, Japanese, Desserts</td>\n",
              "      <td>...</td>\n",
              "      <td>Botswana Pula(P)</td>\n",
              "      <td>Yes</td>\n",
              "      <td>No</td>\n",
              "      <td>No</td>\n",
              "      <td>No</td>\n",
              "      <td>3</td>\n",
              "      <td>4.8</td>\n",
              "      <td>Dark Green</td>\n",
              "      <td>Excellent</td>\n",
              "      <td>314</td>\n",
              "    </tr>\n",
              "    <tr>\n",
              "      <th>1</th>\n",
              "      <td>6304287</td>\n",
              "      <td>Izakaya Kikufuji</td>\n",
              "      <td>162</td>\n",
              "      <td>Makati City</td>\n",
              "      <td>Little Tokyo, 2277 Chino Roces Avenue, Legaspi...</td>\n",
              "      <td>Little Tokyo, Legaspi Village, Makati City</td>\n",
              "      <td>Little Tokyo, Legaspi Village, Makati City, Ma...</td>\n",
              "      <td>121.014101</td>\n",
              "      <td>14.553708</td>\n",
              "      <td>Japanese</td>\n",
              "      <td>...</td>\n",
              "      <td>Botswana Pula(P)</td>\n",
              "      <td>Yes</td>\n",
              "      <td>No</td>\n",
              "      <td>No</td>\n",
              "      <td>No</td>\n",
              "      <td>3</td>\n",
              "      <td>4.5</td>\n",
              "      <td>Dark Green</td>\n",
              "      <td>Excellent</td>\n",
              "      <td>591</td>\n",
              "    </tr>\n",
              "    <tr>\n",
              "      <th>2</th>\n",
              "      <td>6300002</td>\n",
              "      <td>Heat - Edsa Shangri-La</td>\n",
              "      <td>162</td>\n",
              "      <td>Mandaluyong City</td>\n",
              "      <td>Edsa Shangri-La, 1 Garden Way, Ortigas, Mandal...</td>\n",
              "      <td>Edsa Shangri-La, Ortigas, Mandaluyong City</td>\n",
              "      <td>Edsa Shangri-La, Ortigas, Mandaluyong City, Ma...</td>\n",
              "      <td>121.056831</td>\n",
              "      <td>14.581404</td>\n",
              "      <td>Seafood, Asian, Filipino, Indian</td>\n",
              "      <td>...</td>\n",
              "      <td>Botswana Pula(P)</td>\n",
              "      <td>Yes</td>\n",
              "      <td>No</td>\n",
              "      <td>No</td>\n",
              "      <td>No</td>\n",
              "      <td>4</td>\n",
              "      <td>4.4</td>\n",
              "      <td>Green</td>\n",
              "      <td>Very Good</td>\n",
              "      <td>270</td>\n",
              "    </tr>\n",
              "    <tr>\n",
              "      <th>3</th>\n",
              "      <td>6318506</td>\n",
              "      <td>Ooma</td>\n",
              "      <td>162</td>\n",
              "      <td>Mandaluyong City</td>\n",
              "      <td>Third Floor, Mega Fashion Hall, SM Megamall, O...</td>\n",
              "      <td>SM Megamall, Ortigas, Mandaluyong City</td>\n",
              "      <td>SM Megamall, Ortigas, Mandaluyong City, Mandal...</td>\n",
              "      <td>121.056475</td>\n",
              "      <td>14.585318</td>\n",
              "      <td>Japanese, Sushi</td>\n",
              "      <td>...</td>\n",
              "      <td>Botswana Pula(P)</td>\n",
              "      <td>No</td>\n",
              "      <td>No</td>\n",
              "      <td>No</td>\n",
              "      <td>No</td>\n",
              "      <td>4</td>\n",
              "      <td>4.9</td>\n",
              "      <td>Dark Green</td>\n",
              "      <td>Excellent</td>\n",
              "      <td>365</td>\n",
              "    </tr>\n",
              "    <tr>\n",
              "      <th>4</th>\n",
              "      <td>6314302</td>\n",
              "      <td>Sambo Kojin</td>\n",
              "      <td>162</td>\n",
              "      <td>Mandaluyong City</td>\n",
              "      <td>Third Floor, Mega Atrium, SM Megamall, Ortigas...</td>\n",
              "      <td>SM Megamall, Ortigas, Mandaluyong City</td>\n",
              "      <td>SM Megamall, Ortigas, Mandaluyong City, Mandal...</td>\n",
              "      <td>121.057508</td>\n",
              "      <td>14.584450</td>\n",
              "      <td>Japanese, Korean</td>\n",
              "      <td>...</td>\n",
              "      <td>Botswana Pula(P)</td>\n",
              "      <td>Yes</td>\n",
              "      <td>No</td>\n",
              "      <td>No</td>\n",
              "      <td>No</td>\n",
              "      <td>4</td>\n",
              "      <td>4.8</td>\n",
              "      <td>Dark Green</td>\n",
              "      <td>Excellent</td>\n",
              "      <td>229</td>\n",
              "    </tr>\n",
              "  </tbody>\n",
              "</table>\n",
              "<p>5 rows × 21 columns</p>\n",
              "</div>\n",
              "      <button class=\"colab-df-convert\" onclick=\"convertToInteractive('df-abd625fe-560e-437b-bb40-707e710ca86d')\"\n",
              "              title=\"Convert this dataframe to an interactive table.\"\n",
              "              style=\"display:none;\">\n",
              "        \n",
              "  <svg xmlns=\"http://www.w3.org/2000/svg\" height=\"24px\"viewBox=\"0 0 24 24\"\n",
              "       width=\"24px\">\n",
              "    <path d=\"M0 0h24v24H0V0z\" fill=\"none\"/>\n",
              "    <path d=\"M18.56 5.44l.94 2.06.94-2.06 2.06-.94-2.06-.94-.94-2.06-.94 2.06-2.06.94zm-11 1L8.5 8.5l.94-2.06 2.06-.94-2.06-.94L8.5 2.5l-.94 2.06-2.06.94zm10 10l.94 2.06.94-2.06 2.06-.94-2.06-.94-.94-2.06-.94 2.06-2.06.94z\"/><path d=\"M17.41 7.96l-1.37-1.37c-.4-.4-.92-.59-1.43-.59-.52 0-1.04.2-1.43.59L10.3 9.45l-7.72 7.72c-.78.78-.78 2.05 0 2.83L4 21.41c.39.39.9.59 1.41.59.51 0 1.02-.2 1.41-.59l7.78-7.78 2.81-2.81c.8-.78.8-2.07 0-2.86zM5.41 20L4 18.59l7.72-7.72 1.47 1.35L5.41 20z\"/>\n",
              "  </svg>\n",
              "      </button>\n",
              "      \n",
              "  <style>\n",
              "    .colab-df-container {\n",
              "      display:flex;\n",
              "      flex-wrap:wrap;\n",
              "      gap: 12px;\n",
              "    }\n",
              "\n",
              "    .colab-df-convert {\n",
              "      background-color: #E8F0FE;\n",
              "      border: none;\n",
              "      border-radius: 50%;\n",
              "      cursor: pointer;\n",
              "      display: none;\n",
              "      fill: #1967D2;\n",
              "      height: 32px;\n",
              "      padding: 0 0 0 0;\n",
              "      width: 32px;\n",
              "    }\n",
              "\n",
              "    .colab-df-convert:hover {\n",
              "      background-color: #E2EBFA;\n",
              "      box-shadow: 0px 1px 2px rgba(60, 64, 67, 0.3), 0px 1px 3px 1px rgba(60, 64, 67, 0.15);\n",
              "      fill: #174EA6;\n",
              "    }\n",
              "\n",
              "    [theme=dark] .colab-df-convert {\n",
              "      background-color: #3B4455;\n",
              "      fill: #D2E3FC;\n",
              "    }\n",
              "\n",
              "    [theme=dark] .colab-df-convert:hover {\n",
              "      background-color: #434B5C;\n",
              "      box-shadow: 0px 1px 3px 1px rgba(0, 0, 0, 0.15);\n",
              "      filter: drop-shadow(0px 1px 2px rgba(0, 0, 0, 0.3));\n",
              "      fill: #FFFFFF;\n",
              "    }\n",
              "  </style>\n",
              "\n",
              "      <script>\n",
              "        const buttonEl =\n",
              "          document.querySelector('#df-abd625fe-560e-437b-bb40-707e710ca86d button.colab-df-convert');\n",
              "        buttonEl.style.display =\n",
              "          google.colab.kernel.accessAllowed ? 'block' : 'none';\n",
              "\n",
              "        async function convertToInteractive(key) {\n",
              "          const element = document.querySelector('#df-abd625fe-560e-437b-bb40-707e710ca86d');\n",
              "          const dataTable =\n",
              "            await google.colab.kernel.invokeFunction('convertToInteractive',\n",
              "                                                     [key], {});\n",
              "          if (!dataTable) return;\n",
              "\n",
              "          const docLinkHtml = 'Like what you see? Visit the ' +\n",
              "            '<a target=\"_blank\" href=https://colab.research.google.com/notebooks/data_table.ipynb>data table notebook</a>'\n",
              "            + ' to learn more about interactive tables.';\n",
              "          element.innerHTML = '';\n",
              "          dataTable['output_type'] = 'display_data';\n",
              "          await google.colab.output.renderOutput(dataTable, element);\n",
              "          const docLink = document.createElement('div');\n",
              "          docLink.innerHTML = docLinkHtml;\n",
              "          element.appendChild(docLink);\n",
              "        }\n",
              "      </script>\n",
              "    </div>\n",
              "  </div>\n",
              "  "
            ]
          },
          "metadata": {},
          "execution_count": 3
        }
      ]
    },
    {
      "cell_type": "code",
      "source": [
        "df.columns\n"
      ],
      "metadata": {
        "colab": {
          "base_uri": "https://localhost:8080/"
        },
        "id": "C4_zY6gXFmXU",
        "outputId": "b188fcf3-ec33-46ee-f356-9d18c8292032"
      },
      "execution_count": 4,
      "outputs": [
        {
          "output_type": "execute_result",
          "data": {
            "text/plain": [
              "Index(['Restaurant ID', 'Restaurant Name', 'Country Code', 'City', 'Address',\n",
              "       'Locality', 'Locality Verbose', 'Longitude', 'Latitude', 'Cuisines',\n",
              "       'Average Cost for two', 'Currency', 'Has Table booking',\n",
              "       'Has Online delivery', 'Is delivering now', 'Switch to order menu',\n",
              "       'Price range', 'Aggregate rating', 'Rating color', 'Rating text',\n",
              "       'Votes'],\n",
              "      dtype='object')"
            ]
          },
          "metadata": {},
          "execution_count": 4
        }
      ]
    },
    {
      "cell_type": "code",
      "source": [
        "df.shape"
      ],
      "metadata": {
        "id": "FLKjg5n7Fuo3",
        "outputId": "f29e49a8-1636-470a-f1be-a4bf57d3c99f",
        "colab": {
          "base_uri": "https://localhost:8080/"
        }
      },
      "execution_count": 5,
      "outputs": [
        {
          "output_type": "execute_result",
          "data": {
            "text/plain": [
              "(9551, 21)"
            ]
          },
          "metadata": {},
          "execution_count": 5
        }
      ]
    },
    {
      "cell_type": "code",
      "source": [
        "df.size"
      ],
      "metadata": {
        "colab": {
          "base_uri": "https://localhost:8080/"
        },
        "id": "ZHLlCXcR7X7N",
        "outputId": "8141dcd1-fe74-420c-8786-b4dc3d5fb72a"
      },
      "execution_count": 6,
      "outputs": [
        {
          "output_type": "execute_result",
          "data": {
            "text/plain": [
              "200571"
            ]
          },
          "metadata": {},
          "execution_count": 6
        }
      ]
    },
    {
      "cell_type": "code",
      "source": [
        "df.info()"
      ],
      "metadata": {
        "colab": {
          "base_uri": "https://localhost:8080/"
        },
        "id": "cJWpQJk-8a0m",
        "outputId": "62e8b503-08b8-4c29-bd57-f4b20b801abf"
      },
      "execution_count": 7,
      "outputs": [
        {
          "output_type": "stream",
          "name": "stdout",
          "text": [
            "<class 'pandas.core.frame.DataFrame'>\n",
            "RangeIndex: 9551 entries, 0 to 9550\n",
            "Data columns (total 21 columns):\n",
            " #   Column                Non-Null Count  Dtype  \n",
            "---  ------                --------------  -----  \n",
            " 0   Restaurant ID         9551 non-null   int64  \n",
            " 1   Restaurant Name       9551 non-null   object \n",
            " 2   Country Code          9551 non-null   int64  \n",
            " 3   City                  9551 non-null   object \n",
            " 4   Address               9551 non-null   object \n",
            " 5   Locality              9551 non-null   object \n",
            " 6   Locality Verbose      9551 non-null   object \n",
            " 7   Longitude             9551 non-null   float64\n",
            " 8   Latitude              9551 non-null   float64\n",
            " 9   Cuisines              9542 non-null   object \n",
            " 10  Average Cost for two  9550 non-null   object \n",
            " 11  Currency              9551 non-null   object \n",
            " 12  Has Table booking     9551 non-null   object \n",
            " 13  Has Online delivery   9551 non-null   object \n",
            " 14  Is delivering now     9551 non-null   object \n",
            " 15  Switch to order menu  9551 non-null   object \n",
            " 16  Price range           9549 non-null   object \n",
            " 17  Aggregate rating      9551 non-null   float64\n",
            " 18  Rating color          9551 non-null   object \n",
            " 19  Rating text           9551 non-null   object \n",
            " 20  Votes                 9551 non-null   int64  \n",
            "dtypes: float64(3), int64(3), object(15)\n",
            "memory usage: 1.5+ MB\n"
          ]
        }
      ]
    },
    {
      "cell_type": "code",
      "source": [
        "df['Price range'].unique()"
      ],
      "metadata": {
        "colab": {
          "base_uri": "https://localhost:8080/"
        },
        "id": "qTOhdRZpRcai",
        "outputId": "1bcd8247-42e1-49b6-e5de-4d4ce6ea674b"
      },
      "execution_count": 8,
      "outputs": [
        {
          "output_type": "execute_result",
          "data": {
            "text/plain": [
              "array(['3', '4', '2', '1', '*', nan, '456', '5672', '3454', '5552',\n",
              "       '6782', '4533', '5666'], dtype=object)"
            ]
          },
          "metadata": {},
          "execution_count": 8
        }
      ]
    },
    {
      "cell_type": "code",
      "source": [
        "df['Cuisines'].unique()"
      ],
      "metadata": {
        "colab": {
          "base_uri": "https://localhost:8080/"
        },
        "id": "5DGCW2HgR4Iq",
        "outputId": "7326449f-cd61-4cc8-8247-dcea6accc12b"
      },
      "execution_count": 9,
      "outputs": [
        {
          "output_type": "execute_result",
          "data": {
            "text/plain": [
              "array(['French, Japanese, Desserts', 'Japanese',\n",
              "       'Seafood, Asian, Filipino, Indian', ..., 'Burger, Izgara',\n",
              "       'World Cuisine, Patisserie, Cafe', 'Italian, World Cuisine'],\n",
              "      dtype=object)"
            ]
          },
          "metadata": {},
          "execution_count": 9
        }
      ]
    },
    {
      "cell_type": "code",
      "source": [
        "df['Average Cost for two'].unique()"
      ],
      "metadata": {
        "colab": {
          "base_uri": "https://localhost:8080/"
        },
        "id": "jzzRcV9uSGb4",
        "outputId": "b1db1d1a-86bd-4fc3-a183-c84026a86d9a"
      },
      "execution_count": 10,
      "outputs": [
        {
          "output_type": "execute_result",
          "data": {
            "text/plain": [
              "array(['1100', '1200', '4000', '1500', '1000', '2000', '6000', '800',\n",
              "       '900', '700', '850', '600', '?', '3000', '1800', '55', '30', '45',\n",
              "       '60', '50', '80', '90', '200', '150', '100', '230', '240', '350',\n",
              "       '140', '170', '120', '250', '40', '70', '300', '85', '75', '400',\n",
              "       '65', '25', '10', '0', nan, '20', '35', '&', '7', '*', '270',\n",
              "       '500', '430', '315', '220', '95', '190', '260', '180', '330',\n",
              "       '280', '160', '285', '130', '110', '2500', '3600', '550', '450',\n",
              "       '950', '650', '1300', '2400', '1400', '1600', '2200', '750',\n",
              "       '1700', '1250', '1900', '2700', '3500', '5000', '2300', '1750',\n",
              "       '3200', '2100', '1850', '4500', '3300', '1350', '1650', '1950',\n",
              "       '1050', '290', '1450', '2800', '3650', '4800', '1550', '720',\n",
              "       '6500', '7000', '1150', '2900', '2600', '4700', '3700', '3800',\n",
              "       '4100', '4300', '2650', '5100', '5500', '4400', '4200', '8000',\n",
              "       '2350', '150000', '70000', '250000', '200000', '165000', '800000',\n",
              "       '500000', '300000', '450000', '120000', '100000', '350000', '105',\n",
              "       '15', '445', '294', '360', '535', '125', '320', '570', '1540',\n",
              "       '515', '955', '390', '410', '3210', '545'], dtype=object)"
            ]
          },
          "metadata": {},
          "execution_count": 10
        }
      ]
    },
    {
      "cell_type": "code",
      "source": [
        "df[\"Aggregate rating\"].value_counts()"
      ],
      "metadata": {
        "colab": {
          "base_uri": "https://localhost:8080/"
        },
        "id": "JoADASyS-eyO",
        "outputId": "b9dce487-2c9a-4008-d35b-a98197c277fb"
      },
      "execution_count": 11,
      "outputs": [
        {
          "output_type": "execute_result",
          "data": {
            "text/plain": [
              "0.0    2148\n",
              "3.2     522\n",
              "3.1     519\n",
              "3.4     498\n",
              "3.3     483\n",
              "3.5     480\n",
              "3.0     468\n",
              "3.6     458\n",
              "3.7     427\n",
              "3.8     400\n",
              "2.9     381\n",
              "3.9     335\n",
              "2.8     315\n",
              "4.1     274\n",
              "4.0     266\n",
              "2.7     250\n",
              "4.2     221\n",
              "2.6     191\n",
              "4.3     174\n",
              "4.4     144\n",
              "2.5     110\n",
              "4.5      95\n",
              "2.4      87\n",
              "4.6      78\n",
              "4.9      61\n",
              "2.3      47\n",
              "4.7      42\n",
              "2.2      27\n",
              "4.8      25\n",
              "2.1      15\n",
              "2.0       7\n",
              "1.9       2\n",
              "1.8       1\n",
              "Name: Aggregate rating, dtype: int64"
            ]
          },
          "metadata": {},
          "execution_count": 11
        }
      ]
    },
    {
      "cell_type": "code",
      "source": [
        "sns.histplot(x='Aggregate rating', data=df, bins=20)\n",
        "plt.show()"
      ],
      "metadata": {
        "colab": {
          "base_uri": "https://localhost:8080/",
          "height": 279
        },
        "id": "5sOQLlk6Jzfi",
        "outputId": "c19e54d1-2fe9-4b5d-985f-6c5459f10d93"
      },
      "execution_count": 12,
      "outputs": [
        {
          "output_type": "display_data",
          "data": {
            "text/plain": [
              "<Figure size 432x288 with 1 Axes>"
            ],
            "image/png": "[encoded data removed]"
          },
          "metadata": {
            "needs_background": "light"
          }
        }
      ]
    },
    {
      "cell_type": "code",
      "source": [
        "plt.figure(figsize=(12,8))\n",
        "sns.countplot(x='Aggregate rating', data=df)\n",
        "plt.show()"
      ],
      "metadata": {
        "colab": {
          "base_uri": "https://localhost:8080/",
          "height": 497
        },
        "id": "biZoRnNyKB4K",
        "outputId": "2c726d67-a0c7-4983-d6ca-f02cbe752a29"
      },
      "execution_count": 13,
      "outputs": [
        {
          "output_type": "display_data",
          "data": {
            "text/plain": [
              "<Figure size 864x576 with 1 Axes>"
            ],
            "image/png": "[encoded data removed]"
          },
          "metadata": {
            "needs_background": "light"
          }
        }
      ]
    },
    {
      "cell_type": "code",
      "source": [
        "plt.figure(figsize=(8,6))\n",
        "sns.countplot(x='Rating color',data=df)\n"
      ],
      "metadata": {
        "colab": {
          "base_uri": "https://localhost:8080/",
          "height": 405
        },
        "id": "wvQaA4SvE9W5",
        "outputId": "ce43b720-07b1-44c9-d10c-718b7da01c43"
      },
      "execution_count": 14,
      "outputs": [
        {
          "output_type": "execute_result",
          "data": {
            "text/plain": [
              "<Axes: xlabel='Rating color', ylabel='count'>"
            ]
          },
          "metadata": {},
          "execution_count": 14
        },
        {
          "output_type": "display_data",
          "data": {
            "text/plain": [
              "<Figure size 576x432 with 1 Axes>"
            ],
            "image/png": "[encoded data removed]"
          },
          "metadata": {
            "needs_background": "light"
          }
        }
      ]
    },
    {
      "cell_type": "code",
      "source": [
        "df['Price range'].value_counts()"
      ],
      "metadata": {
        "colab": {
          "base_uri": "https://localhost:8080/"
        },
        "id": "mM7_pUmVGLw8",
        "outputId": "8719729b-340a-474e-89a7-9ff9a7597e34"
      },
      "execution_count": 15,
      "outputs": [
        {
          "output_type": "execute_result",
          "data": {
            "text/plain": [
              "1       4443\n",
              "2       3107\n",
              "3       1407\n",
              "4        584\n",
              "*          1\n",
              "456        1\n",
              "5672       1\n",
              "3454       1\n",
              "5552       1\n",
              "6782       1\n",
              "4533       1\n",
              "5666       1\n",
              "Name: Price range, dtype: int64"
            ]
          },
          "metadata": {},
          "execution_count": 15
        }
      ]
    },
    {
      "cell_type": "code",
      "source": [
        "sns.countplot(x='Price range', data=df)\n",
        "plt.show()\n"
      ],
      "metadata": {
        "colab": {
          "base_uri": "https://localhost:8080/",
          "height": 279
        },
        "id": "6NqIezPlM8qw",
        "outputId": "3af32d24-870e-4282-b9d1-b70204656d99"
      },
      "execution_count": 16,
      "outputs": [
        {
          "output_type": "display_data",
          "data": {
            "text/plain": [
              "<Figure size 432x288 with 1 Axes>"
            ],
            "image/png": "[encoded data removed]"
          },
          "metadata": {
            "needs_background": "light"
          }
        }
      ]
    },
    {
      "cell_type": "code",
      "source": [],
      "metadata": {
        "id": "obd0dRHSLHYd"
      },
      "execution_count": 16,
      "outputs": []
    },
    {
      "cell_type": "code",
      "source": [
        "sns.countplot(x='Rating text', data=df)\n",
        "plt.show()\n"
      ],
      "metadata": {
        "colab": {
          "base_uri": "https://localhost:8080/",
          "height": 279
        },
        "id": "26MXeKHMNNoz",
        "outputId": "88dfe4db-415c-45ed-9466-0f49e9a69eb8"
      },
      "execution_count": 17,
      "outputs": [
        {
          "output_type": "display_data",
          "data": {
            "text/plain": [
              "<Figure size 432x288 with 1 Axes>"
            ],
            "image/png": "[encoded data removed]"
          },
          "metadata": {
            "needs_background": "light"
          }
        }
      ]
    },
    {
      "cell_type": "code",
      "source": [
        "table_booking = df['Has Table booking'].value_counts()\n",
        "plt.pie(table_booking.values, labels=table_booking.index, autopct='%1.1f%%', startangle=90)\n",
        "plt.axis('equal')\n",
        "plt.title('Distribution of Table Booking Availability')\n",
        "plt.show()\n"
      ],
      "metadata": {
        "colab": {
          "base_uri": "https://localhost:8080/",
          "height": 264
        },
        "id": "rAD-bvrYMxGk",
        "outputId": "1cb07529-c0a2-4895-d8f4-4469badeac44"
      },
      "execution_count": 18,
      "outputs": [
        {
          "output_type": "display_data",
          "data": {
            "text/plain": [
              "<Figure size 432x288 with 1 Axes>"
            ],
            "image/png": "[encoded data removed]"
          },
          "metadata": {}
        }
      ]
    },
    {
      "cell_type": "code",
      "source": [
        "online_delivery = df['Has Online delivery'].value_counts()\n",
        "plt.pie(online_delivery.values, labels=online_delivery.index, autopct='%1.1f%%', startangle=90)\n",
        "plt.axis('equal')\n",
        "plt.title('Distribution of Online Delivery Availability')\n",
        "plt.show()\n"
      ],
      "metadata": {
        "colab": {
          "base_uri": "https://localhost:8080/",
          "height": 264
        },
        "id": "oL83ZOOLM4O_",
        "outputId": "2e99fa05-8f6a-4a79-ad7b-d494ed93ff90"
      },
      "execution_count": 19,
      "outputs": [
        {
          "output_type": "display_data",
          "data": {
            "text/plain": [
              "<Figure size 432x288 with 1 Axes>"
            ],
            "image/png": "[encoded data removed]"
          },
          "metadata": {}
        }
      ]
    },
    {
      "cell_type": "code",
      "source": [
        "delivering_now = df['Is delivering now'].value_counts()\n",
        "plt.pie(delivering_now.values, labels=delivering_now.index, autopct='%1.1f%%', startangle=90)\n",
        "plt.axis('equal')\n",
        "plt.title('Distribution of Restaurants Currently Delivering')\n",
        "plt.show()\n"
      ],
      "metadata": {
        "colab": {
          "base_uri": "https://localhost:8080/",
          "height": 269
        },
        "id": "w4v0D67sLVRR",
        "outputId": "0ce19696-ed2c-4303-86ab-4e9cc3d151bf"
      },
      "execution_count": 20,
      "outputs": [
        {
          "output_type": "display_data",
          "data": {
            "text/plain": [
              "<Figure size 432x288 with 1 Axes>"
            ],
            "image/png": "[encoded data removed]"
          },
          "metadata": {}
        }
      ]
    },
    {
      "cell_type": "code",
      "source": [
        "rating_colors = df['Rating color'].value_counts()\n",
        "plt.pie(rating_colors.values, labels=rating_colors.index, autopct='%1.1f%%', startangle=90)\n",
        "plt.axis('equal')\n",
        "plt.title('Distribution of Restaurant Rating Colors')\n",
        "plt.show()\n"
      ],
      "metadata": {
        "colab": {
          "base_uri": "https://localhost:8080/",
          "height": 269
        },
        "id": "WlFYSDclNI83",
        "outputId": "380f1371-d567-495b-e787-e2c48513b9e2"
      },
      "execution_count": 21,
      "outputs": [
        {
          "output_type": "display_data",
          "data": {
            "text/plain": [
              "<Figure size 432x288 with 1 Axes>"
            ],
            "image/png": "[encoded data removed]"
          },
          "metadata": {}
        }
      ]
    },
    {
      "cell_type": "code",
      "source": [
        "sns.histplot(x='Votes', data=df, bins=20)\n",
        "plt.show()\n"
      ],
      "metadata": {
        "colab": {
          "base_uri": "https://localhost:8080/",
          "height": 279
        },
        "id": "SdtYfqlrNRnK",
        "outputId": "a04ca0d4-d9a6-4f81-9282-adce9d4731bc"
      },
      "execution_count": 22,
      "outputs": [
        {
          "output_type": "display_data",
          "data": {
            "text/plain": [
              "<Figure size 432x288 with 1 Axes>"
            ],
            "image/png": "[encoded data removed]"
          },
          "metadata": {
            "needs_background": "light"
          }
        }
      ]
    },
    {
      "cell_type": "code",
      "source": [
        "top_cuisines = df['Cuisines'].value_counts().head(10)\n",
        "sns.barplot(x=top_cuisines.index, y=top_cuisines.values)\n",
        "plt.xticks(rotation=90)\n",
        "plt.show()\n"
      ],
      "metadata": {
        "colab": {
          "base_uri": "https://localhost:8080/",
          "height": 409
        },
        "id": "sZ5k9anrNa4G",
        "outputId": "68c83f08-1c1a-47ce-bc67-f504a5198273"
      },
      "execution_count": 23,
      "outputs": [
        {
          "output_type": "display_data",
          "data": {
            "text/plain": [
              "<Figure size 432x288 with 1 Axes>"
            ],
            "image/png": "[encoded data removed]"
          },
          "metadata": {
            "needs_background": "light"
          }
        }
      ]
    },
    {
      "cell_type": "code",
      "source": [
        "sns.countplot(x='Has Online delivery', data=df)\n",
        "plt.show()"
      ],
      "metadata": {
        "colab": {
          "base_uri": "https://localhost:8080/",
          "height": 279
        },
        "id": "6XiMEAzNPDmu",
        "outputId": "dbee55a0-efd6-4416-922a-f6fdac3b58c7"
      },
      "execution_count": 24,
      "outputs": [
        {
          "output_type": "display_data",
          "data": {
            "text/plain": [
              "<Figure size 432x288 with 1 Axes>"
            ],
            "image/png": "[encoded data removed]"
          },
          "metadata": {
            "needs_background": "light"
          }
        }
      ]
    },
    {
      "cell_type": "code",
      "source": [
        "sns.countplot(x='Has Table booking', data=df)\n",
        "plt.show()"
      ],
      "metadata": {
        "colab": {
          "base_uri": "https://localhost:8080/",
          "height": 279
        },
        "id": "1djySpNxxYhz",
        "outputId": "94f4120f-7905-4655-cee1-8885fc66f222"
      },
      "execution_count": 25,
      "outputs": [
        {
          "output_type": "display_data",
          "data": {
            "text/plain": [
              "<Figure size 432x288 with 1 Axes>"
            ],
            "image/png": "[encoded data removed]"
          },
          "metadata": {
            "needs_background": "light"
          }
        }
      ]
    },
    {
      "cell_type": "code",
      "source": [
        "labels = {}\n",
        "cols_to_convert = ['City','Address','Locality','Locality Verbose','Cuisines','Has Table booking','Has Online delivery','Is delivering now','Switch to order menu','Currency','Price range','Rating color','Rating text']  # add the names of the columns you want to convert\n",
        "\n",
        "for col in cols_to_convert:\n",
        "    unique_values = df[col].unique()\n",
        "    for i, val in enumerate(unique_values):\n",
        "        labels[val] = i\n",
        "    df[col] = df[col].apply(lambda x: labels[x])\n"
      ],
      "metadata": {
        "id": "rna6QEXWzO_q"
      },
      "execution_count": 27,
      "outputs": []
    },
    {
      "cell_type": "code",
      "source": [
        "labels"
      ],
      "metadata": {
        "colab": {
          "base_uri": "https://localhost:8080/"
        },
        "id": "sV0KCB1f0hxZ",
        "outputId": "4ed3beb8-3f74-4d7c-c6e5-0cb4546682e3"
      },
      "execution_count": 46,
      "outputs": [
        {
          "output_type": "execute_result",
          "data": {
            "text/plain": [
              "{'Makati City': 0,\n",
              " 'Mandaluyong City': 1,\n",
              " 'Pasay City': 2,\n",
              " 'Pasig City': 3,\n",
              " 'Quezon City': 4,\n",
              " 'San Juan City': 5,\n",
              " 'Santa Rosa': 6,\n",
              " 'Tagaytay City': 12,\n",
              " 'Taguig City': 8,\n",
              " 'Brasí_lia': 9,\n",
              " 'Rio de Janeiro': 10,\n",
              " 'Sí£o Paulo': 11,\n",
              " 'Albany': 53,\n",
              " 'Armidale': 55,\n",
              " 'Athens': 56,\n",
              " 'Augusta': 57,\n",
              " 'Balingup': 60,\n",
              " 'Beechworth': 61,\n",
              " 'Boise': 62,\n",
              " 'Cedar Rapids/Iowa City': 19,\n",
              " 'Chatham-Kent': 69,\n",
              " 'Clatskanie': 70,\n",
              " 'Cochrane': 71,\n",
              " 'Columbus': 72,\n",
              " 'Consort': 74,\n",
              " 'Dalton': 77,\n",
              " 'Davenport': 83,\n",
              " 'Des Moines': 27,\n",
              " 'Dicky Beach': 95,\n",
              " 'Dubuque': 96,\n",
              " 'East Ballina': 97,\n",
              " 'Fernley': 98,\n",
              " 'Flaxton': 99,\n",
              " 'Forrest': 100,\n",
              " 'Gainesville': 105,\n",
              " 'Hepburn Springs': 107,\n",
              " 'Huskisson': 108,\n",
              " 'Inverloch': 109,\n",
              " 'Lakes Entrance': 110,\n",
              " 'Lakeview': 111,\n",
              " 'Lincoln': 40,\n",
              " 'Lorn': 113,\n",
              " 'Macedon': 114,\n",
              " 'Macon': 116,\n",
              " 'Mayfield': 118,\n",
              " 'Mc Millan': 119,\n",
              " 'Middleton Beach': 120,\n",
              " 'Miller': 121,\n",
              " 'Monroe': 122,\n",
              " 'Montville': 123,\n",
              " 'Ojo Caliente': 124,\n",
              " 'Orlando': 51,\n",
              " 'Palm Cove': 135,\n",
              " 'Paynesville': 136,\n",
              " 'Penola': 137,\n",
              " 'Pensacola': 139,\n",
              " 'Phillip Island': 142,\n",
              " 'Pocatello': 146,\n",
              " 'Potrero': 147,\n",
              " 'Princeton': 148,\n",
              " 'Rest of Hawaii': 60,\n",
              " 'Savannah': 156,\n",
              " 'Singapore': 62,\n",
              " 'Sioux City': 176,\n",
              " 'Tampa Bay': 64,\n",
              " 'Tanunda': 189,\n",
              " 'Trentham East': 190,\n",
              " 'Valdosta': 191,\n",
              " 'Vernonia': 192,\n",
              " 'Victor Harbor': 193,\n",
              " 'Vineland Station': 194,\n",
              " 'Waterloo': 196,\n",
              " 'Weirton': 197,\n",
              " 'Winchester Bay': 198,\n",
              " 'Yorkton': 199,\n",
              " 'Abu Dhabi': 75,\n",
              " 'Dubai': 76,\n",
              " 'Sharjah': 77,\n",
              " 'Agra': 78,\n",
              " 'Ahmedabad': 79,\n",
              " 'Allahabad': 80,\n",
              " 'Amritsar': 81,\n",
              " 'Aurangabad': 82,\n",
              " 'Bangalore': 83,\n",
              " 'Bhopal': 84,\n",
              " 'Bhubaneshwar': 85,\n",
              " 'Chandigarh': 86,\n",
              " 'Chennai': 87,\n",
              " 'Coimbatore': 88,\n",
              " 'Dehradun': 89,\n",
              " 'Faridabad': 90,\n",
              " 'Ghaziabad': 91,\n",
              " 'Goa': 92,\n",
              " 'Gurgaon': 93,\n",
              " 'Guwahati': 94,\n",
              " 'Hyderabad': 95,\n",
              " 'Indore': 96,\n",
              " 'Jaipur': 97,\n",
              " 'Kanpur': 98,\n",
              " 'Kochi': 99,\n",
              " 'Kolkata': 100,\n",
              " 'Lucknow': 101,\n",
              " 'Ludhiana': 102,\n",
              " 'Mangalore': 103,\n",
              " 'Mohali': 104,\n",
              " 'Mumbai': 105,\n",
              " 'Mysore': 106,\n",
              " 'Nagpur': 107,\n",
              " 'Nashik': 108,\n",
              " 'New Delhi': 109,\n",
              " 'Noida': 110,\n",
              " 'Panchkula': 111,\n",
              " 'Patna': 112,\n",
              " 'Puducherry': 113,\n",
              " 'Pune': 114,\n",
              " 'Ranchi': 115,\n",
              " 'Secunderabad': 116,\n",
              " 'Surat': 117,\n",
              " 'Vadodara': 118,\n",
              " 'Varanasi': 119,\n",
              " 'Vizag': 120,\n",
              " 'Bandung': 121,\n",
              " 'Bogor': 122,\n",
              " 'Jakarta': 123,\n",
              " 'Tangerang': 124,\n",
              " 'Auckland': 125,\n",
              " 'Wellington City': 126,\n",
              " 'Birmingham': 127,\n",
              " 'Edinburgh': 128,\n",
              " 'London': 129,\n",
              " 'Manchester': 130,\n",
              " 'Doha': 131,\n",
              " 'Cape Town': 132,\n",
              " 'Inner City': 133,\n",
              " 'Johannesburg': 134,\n",
              " 'Pretoria': 135,\n",
              " 'Randburg': 136,\n",
              " 'Sandton': 137,\n",
              " 'Colombo': 138,\n",
              " 'Ankara': 139,\n",
              " 'ÛÁstanbul': 140,\n",
              " 'Third Floor, Century City Mall, Kalayaan Avenue, Poblacion, Makati City': 0,\n",
              " 'Little Tokyo, 2277 Chino Roces Avenue, Legaspi Village, Makati City': 1,\n",
              " 'Edsa Shangri-La, 1 Garden Way, Ortigas, Mandaluyong City': 2,\n",
              " 'Third Floor, Mega Fashion Hall, SM Megamall, Ortigas, Mandaluyong City': 3,\n",
              " 'Third Floor, Mega Atrium, SM Megamall, Ortigas, Mandaluyong City': 4,\n",
              " 'Ground Floor, Mega Fashion Hall, SM Megamall, Ortigas, Mandaluyong City': 5,\n",
              " 'Building K, SM By The Bay, Sunset Boulevard, Mall of Asia Complex (MOA), Pasay City': 6,\n",
              " 'Building B, By The Bay, Seaside Boulevard, Mall of Asia Complex (MOA), Pasay City': 7,\n",
              " 'Plaza Level, Sofitel Philippine Plaza Manila, CCP Complex, Pasay City': 8,\n",
              " 'Brixton Technology Center, 10 Brixton Street, Kapitolyo, Pasig City': 9,\n",
              " '75 East Capitol Drive, Kapitolyo, Pasig City': 10,\n",
              " '23 East Capitol Drive, Kapitolyo, Pasig City': 11,\n",
              " 'Second Floor, UP Town Center, Katipunan Avenue, Diliman, Quezon City': 12,\n",
              " '387 P. Guevarra Corner Argonne Street, Addition Hills, San Juan City': 13,\n",
              " '17 J. Abad Santos Drive, Little Baguio, San Juan City': 14,\n",
              " 'Ayala Mall, Solenad, Nuvali, Santa Rosa - Tagaytay Road, Don Jose, Santa Rosa': 15,\n",
              " 'Ground Floor, Building G, Solenad 3, Nuvali, Don Jose, Santa Rosa': 16,\n",
              " 'Aguinaldo Highway, Tagaytay City': 17,\n",
              " 'Third Floor, BGC Stopover Pavillion, Rizal Drive Corner 31st Street, Bonifacio Global City, Taguig City': 18,\n",
              " 'Ground Floor, Netlima Building, 4th Avenue Corner 26th Street, Bonifacio Global City, Taguig City': 19,\n",
              " 'Sixth Floor, SM Aura Premier, C5 Road Corner 26th Street, Bonifacio Global City, Taguig City': 20,\n",
              " 'Fifth Floor, SM Aura Premier, C5 Corner 26th Street, Bonifacio Global City, Taguig City': 21,\n",
              " 'SCLN, 208, Bloco A, Loja 30, Asa Norte, Brasí_lia': 22,\n",
              " 'SCLN 104, Bloco A, Loja 26, Asa Norte, Brasí_lia': 23,\n",
              " 'SCLN 210, Bloco D, Loja 36/48, Asa Norte, Brasí_lia': 24,\n",
              " 'CLN 110, Bloco D, Loja 28, Asa Norte, Brasí_lia': 25,\n",
              " 'SCS 214, Bloco C, Loja 40, Asa Sul, Brasí_lia': 26,\n",
              " 'SCS 213, Bloco C, Loja 35, Asa Sul, Brasí_lia': 27,\n",
              " 'CLS 109, Bloco A, Loja 2/6, Asa Sul, Brasí_lia': 28,\n",
              " 'SCS 212, Bloco B, Loja 26, Asa Sul, Brasí_lia': 29,\n",
              " 'Edifí_cio Josí© Severo, SCS 6, Bloco A, Loja 99, Asa Sul, Brasí_lia': 30,\n",
              " 'CLS 115, Bloco A, Loja 2, Asa Sul, Brasí_lia': 31,\n",
              " 'Rua 13 Norte, Lote 4, í\\x81guas Claras, Brasí_lia': 32,\n",
              " 'Avenida Araucíçrias, 1325, Loja 19, í\\x81guas Claras, Brasí_lia': 33,\n",
              " 'Vila Malls, Avenida das Castanheiras, Lote 1060, í\\x80guas Claras, Brasí_lia': 34,\n",
              " 'Brasí_lia Shopping - Piso 2, SCN 5, Bloco A, Asa Norte, Brasí_lia': 35,\n",
              " 'Fashion Park, Shis Ql 17, Bloco G, Loja 208, Lago Sul, Brasí_lia': 36,\n",
              " 'ParkShopping - Piso 2, SAI/SO, í\\x81rea 6580, Guaríç I, Brasí_lia': 37,\n",
              " 'Pontí£o Lago Sul, SHIS 10, Lote 9, Lago Sul, Brasí_lia': 38,\n",
              " 'SCES, Trecho 2, Conjunto 13/36, Setor de Clubes Esportivos Sul, Brasí_lia': 39,\n",
              " 'Shopping Iguatemi - piso 1, SHIN CA 4, Lote A, Lago Norte, Brasí_lia': 40,\n",
              " 'CLSN 301, Bloco C, Loja 86, Sudoeste, Brasí_lia': 41,\n",
              " 'Praia da Barra da Tijuca, Avenida Lí_cio Costa, Ilha 25, Barra da Tijuca, Rio de Janeiro': 42,\n",
              " 'Rua Goní_alves Dias, 32, Centro, Rio de Janeiro': 43,\n",
              " 'Rua Santa Clara, 36, Copabana, Rio de Janeiro': 44,\n",
              " 'Avenida Prado Junior, 335 B, Copacabana, Rio de Janeiro': 45,\n",
              " 'Rua Ronald de Carvalho, 55, Copacabana, Rio de Janeiro': 46,\n",
              " 'Galeria River, Rua Francisco Otaviano, 67, Copacabana, Rio de Janeiro': 47,\n",
              " 'Praí_a Santos Dumont, 116, Gíçvea, Rio de Janeiro': 48,\n",
              " 'Rua Aní_bal de Mendoní_a, 37, Ipanema, Rio de Janeiro': 49,\n",
              " 'Rua Vinicius de Moraes, 49, Ipanema, Rio de Janeiro': 50,\n",
              " 'Rua Joana Angí©lica, 40, Ipanema, Rio de Janeiro': 51,\n",
              " 'Rua Jardim Botí¢nico, 731, Jardim Botí¢nico, Lagoa, Rio de Janeiro': 52,\n",
              " 'Le Monde, Bloco 3, Lojas A/B, Avenida das Amí©ricas, 3500, Barra da Tijuca, Rio de Janeiro': 53,\n",
              " 'Rua Dias Ferreira, 256, Leblon, Rio de Janeiro': 54,\n",
              " 'Avenida Ataulfo de Paiva, 1022, Lojas A e B, Leblon, Rio de Janeiro': 55,\n",
              " 'Rua Gustavo Sampaio, 798, Leme, Rio de Janeiro': 56,\n",
              " 'Rua Gustavo Sampaio, 610, Leme, Rio de Janeiro': 57,\n",
              " 'Madureira Shopping - Loja 289/290, Piso 2, Estrada do Portela, 222, Madureira, Rio de Janeiro, RJ': 58,\n",
              " 'Rua Aprazí_vel, 62, Santa Teresa, Rio de Janeiro': 59,\n",
              " 'Rua Barí£o de Iguatemi, 379, Tijuca, Rio de Janeiro': 60,\n",
              " 'Avenida Joí£o Alves, 56, Urca, Rio de Janeiro': 61,\n",
              " 'Rua Avanhandava, 81, Bela Vista, Sí£o Paulo 10000': 62,\n",
              " 'Rua Treze de Maio, 668, Bela Vista, Sí£o Paulo 01327000': 63,\n",
              " 'Rua Antonio Carlos, 429, Consolaí_í£o, Sí£o Paulo': 64,\n",
              " 'Rua AntíÇnio Carlos, 268, Consolaí_í£o, Sí£o Paulo': 65,\n",
              " 'Hotel Unique, Avenida Brigadeiro Luí_s AntíÇnio, 4700, Jardim Paulista, Sí£o Paulo': 66,\n",
              " 'Rua Jesuí_no Arruda, 470, Itaim Bibi, Sí£o Paulo': 67,\n",
              " 'Rua Tabapuí£, 1417, Itaim Bibi, Sí£o Paulo': 68,\n",
              " 'Rua Pedroso Alvarenga, 522, Itaim Bibi, Sí£o Paulo, SP': 69,\n",
              " 'Rua Haddock Lobo, 1240, Cerqueira Cí©sar, Jardim Paulista, Sí£o Paulo': 70,\n",
              " 'Alameda Lorena, 300, Jardim Paulista, Sí£o Paulo': 71,\n",
              " 'Rua Haddock Lobo, 1738, Cerqueira Cí©sar, Jardim Paulista, Sí£o Paulo 10000': 72,\n",
              " 'Rua Jacques Fí©lix, 405, Vila Nova Conceií_í£o, Moema, Sí£o Paulo': 73,\n",
              " 'Rua dos Pinheiros, 320, Pinheiros, Sí£o Paulo': 74,\n",
              " 'Praí_a Dom Josí© Gaspar, 42, Repí_blica, Sí£o Paulo 10000': 75,\n",
              " 'Edifí_cio Itíçlia - 41\\x8cÁ Andar, Avenida Ipiranga, 344, Repí_blica, Sí£o Paulo': 76,\n",
              " 'Shopping MetríÇ Santa Cruz - Piso L2, Rua Domingos de Morais, 2564, Vila Mariana, Sí£o Paulo': 77,\n",
              " 'Shopping Morumbi - Piso Lazer, Avenida Roque Petroni Jí_nior, 1089, Santo Amaro, Sí£o Paulo': 78,\n",
              " 'Avenida Nossa Senhora do Loreto, 1104, Vila Medeiros, Vila Maria, Sí£o Paulo': 79,\n",
              " 'Rua Conceií_í£o Veloso, 56, Vila Mariana, Sí£o Paulo': 80,\n",
              " 'Rua Dom Joí£o Batista da Costa, 70, Vila SíÇnia, Sí£o Paulo': 81,\n",
              " '2820 Meredyth Dr, Albany, GA 31707': 82,\n",
              " '2401 Dawson Rd, Albany, GA 31707': 83,\n",
              " '115 N Jackson St, Albany, GA 31701': 84,\n",
              " '2700 Dawson Rd, Albany, GA 31707': 85,\n",
              " '2726 Ledo Rd Ste 10, Albany, GA 31707': 86,\n",
              " '814 N Slappey Blvd, Albany, GA 31701': 87,\n",
              " '2703 Dawson Rd, Albany, GA 31707': 88,\n",
              " '1214 N Westover Blvd, Albany, GA 31707': 89,\n",
              " '2347 Dawson Road, Albany, GA 31707': 90,\n",
              " '629 N. Westover Blvd, Albany, GA 31707': 91,\n",
              " '2526 Dawson Rd Ste A, Albany, GA 31707': 92,\n",
              " '204 S Jackson St, Albany, GA 31701': 93,\n",
              " '547 N Westover Blvd, Albany, GA 31707': 94,\n",
              " '2733 Dawson Rd, Albany, GA 31707': 95,\n",
              " '2610 Dawson Rd, Albany, GA 31707': 96,\n",
              " '629 N Westover Blvd, Albany, GA 31707': 97,\n",
              " '2332 Whispering Pines Road, Albany, GA 31707': 98,\n",
              " '1604 N Slappey Blvd, Albany, GA 31701': 99,\n",
              " '202 W Franklin St, Sylvester, GA 31791': 100,\n",
              " '117 Marsh St, Armidale, NSW': 101,\n",
              " '184 W Clayton St, Athens, GA 30601': 102,\n",
              " '197 Oak St, GA 30601': 103,\n",
              " '175 Tallassee Rd, Athens, GA 30606': 104,\n",
              " '1055 Gaines School Rd Ste 100, Athens, GA 30605': 105,\n",
              " '171 College Ave, Athens, GA 30601': 106,\n",
              " '393 N Finley St, Athens, GA 30601': 107,\n",
              " '259 W Washington St, Athens, GA 30601': 108,\n",
              " '401 E Broad St, Athens, GA 30601': 109,\n",
              " '1965 Barnett Shoals Rd, Athens, GA 30605': 110,\n",
              " '1073 South Milledge Ave, Athens, GA 30605': 111,\n",
              " '199 Prince Ave, Athens, GA 30601': 112,\n",
              " '1307 Prince Ave, Athens, GA 30606': 113,\n",
              " '323 E Broad St, Athens, GA 30601': 114,\n",
              " '251 W Clayton St, Athens, GA 30601': 115,\n",
              " '334 Prince Ave, Athens, GA 30601': 116,\n",
              " '232 W. Hancock Ave., Athens, GA 30601': 117,\n",
              " '1675 S. Lumpkin St., Athens, GA 30606': 118,\n",
              " '145 E Clayton St, Athens, GA 30601': 119,\n",
              " '269 N Hull St, Athens, GA 30601': 120,\n",
              " '247 Prince Ave, Athens, GA 30601': 121,\n",
              " '1315 Augusta West Pkwy, Augusta, GA 30909': 122,\n",
              " '3208 W Wimbledon Dr, Augusta, GA 30909': 123,\n",
              " '211 10th Street, Augusta, GA 30901': 124,\n",
              " '10 9th St, Augusta, GA 30901': 125,\n",
              " '1204 Broad St, Augusta, GA 30901': 126,\n",
              " '505 Railroad Ave, North Augusta, GA 29841': 127,\n",
              " '2250 Sconyers Way, Augusta, GA 30906': 128,\n",
              " '1282 broad street, Augusta, GA 30901': 129,\n",
              " '3690 Wheeler Rd, Augusta, GA 30909': 130,\n",
              " '1167 Broad St, Augusta, GA 30901': 131,\n",
              " '976 Broad St, Augusta, GA 30901': 132,\n",
              " '3051 Washington Rd, Augusta, GA 30907': 133,\n",
              " '437 Highland Ave, Augusta, GA 30909': 134,\n",
              " 'Augusta Mall, Augusta, GA 30909': 135,\n",
              " '502 Furys Ferry Rd, Augusta, GA 30907': 136,\n",
              " '4460 Washington Road, Evans, GA 30809': 137,\n",
              " '4300 Towne Centre, Evans, GA 30809': 138,\n",
              " '303 North Bel Air Rd, Evans, GA 30809': 139,\n",
              " '4357 Washington Road, Evans, GA 30809': 140,\n",
              " '5174 Wrightsboro Rd, Grovetown, GA 30813': 141,\n",
              " '63 South Western Hwy, Balingup, WA': 142,\n",
              " 'Old Coach House 50 Ford St, Beechworth, Beechworth, VIC': 143,\n",
              " '610 W Grove St, Boise, ID 83702': 144,\n",
              " '800 W Main Suite 230, Boise, ID 83702': 145,\n",
              " '108 S Capitol Blvd, Boise, ID 83702': 146,\n",
              " '981 W Grove St, Boise, ID 83702': 147,\n",
              " '202 S Capitol Blvd, Boise, ID 83702': 148,\n",
              " '276 Bobwhite Ct, Boise, ID 83706': 149,\n",
              " '1289 Protest Rd, Boise, ID 83706': 150,\n",
              " '246 N 8th St, Boise, ID 83702': 151,\n",
              " '204 N Capitol Blvd, Boise, ID 83702': 152,\n",
              " '6508 W Fairview Ave, Boise, ID 83704': 153,\n",
              " '199 N 8th St, Boise, ID 83702': 154,\n",
              " '235 N 5th St, Boise, ID 83702': 155,\n",
              " '5220 W Fairview Ave, Boise, ID 83706': 156,\n",
              " '11 N Orchard St, Boise, ID 83706': 157,\n",
              " '750 W Idaho St, Boise, ID 83702': 158,\n",
              " '100 N 8th St, Boise, ID 83702': 159,\n",
              " '8061 W Fairview Ave, Boise, ID 83704': 160,\n",
              " '1388 S Entertainment Ave, Boise, ID 83709': 161,\n",
              " '3801 E Fairview Avenue, Meridian, Boise, ID 83642': 162,\n",
              " '320 11th Avenue S, Nampa, ID 83651': 163,\n",
              " '3847 1st Ave SE, Cedar Rapids, IA 52402': 164,\n",
              " '320 Collins Rd NE, Cedar Rapids, IA 52402': 165,\n",
              " '3300 Johnson Ave NW, Cedar Rapids, IA 52405': 166,\n",
              " '4755 1st Ave SE, Cedar Rapids, IA 52402': 167,\n",
              " '3207 1st Ave SE, Cedar Rapids, IA 52402': 168,\n",
              " '1060 Old Marion Rd NE, Cedar Rapids, IA 52402': 169,\n",
              " '4362 16th Ave SW, Cedar Rapids, IA 52404': 170,\n",
              " '540 Boyson Rd NE, Cedar Rapids, IA 52402': 171,\n",
              " '303 2nd Street, Coralville, IA 52241': 172,\n",
              " '102 2nd Ave, Coralville, IA 52241': 173,\n",
              " '18 S Clinton St, Iowa City, IA 52240': 174,\n",
              " '214 N Linn St, Iowa City, IA 52245': 175,\n",
              " '330 E Market St, Iowa City, IA 52245': 176,\n",
              " '115 East College St, Iowa City, IA 52240': 177,\n",
              " '302 E Bloomington St, Iowa City, IA 52245': 178,\n",
              " '127 Iowa Ave, Iowa City, IA 52240': 179,\n",
              " '503 Westbury Dr Ste 1, Iowa City, IA 52245': 180,\n",
              " '117 N Linn St, Iowa City, IA 52245': 181,\n",
              " '1940 Lower Muscatine Rd, Iowa City, IA 52240': 182,\n",
              " '690 10th St, Marion, IA 52302': 183,\n",
              " '150 Richmond St, Chatham-Kent, ON N7M2V2': 184,\n",
              " '49289 Us-30, Westport, OR 97016': 185,\n",
              " '130 Quarry Street, Unit 20, Cochrane, AB T4C 0W5': 186,\n",
              " '1250 Broadway, Columbus, GA 31901': 187,\n",
              " '2523 Airport Thruway, Columbus, GA 31904': 188,\n",
              " '7160 moon road, Columbus, GA 31909': 189,\n",
              " '7600 Veterans Pkwy, Columbus, GA 31909': 190,\n",
              " '1041 Broadway, Columbus, GA 31901': 191,\n",
              " '6499 Veterans Pkwy, Columbus, GA 31909': 192,\n",
              " '941 Veterans Parkway, Columbus, GA 31901': 193,\n",
              " '1009 Broadway, Columbus, GA 31901': 194,\n",
              " '1639 Bradley Park Dr, Columbus, GA 31904': 195,\n",
              " '5010 Armour Rd, Columbus, GA 31904': 196,\n",
              " '2932 Warm Springs Rd, Columbus, GA 31909': 197,\n",
              " '6100 Bradley Park Dr, Columbus, GA 31904': 198,\n",
              " '3137 Mercury Dr, Columbus, GA 31906': 199,\n",
              " '3201 Macon Rd Ste 167, Columbus, GA 31906': 200,\n",
              " '6100 Veterans Pkwy, Columbus, GA 31909': 201,\n",
              " '1039 1st Ave, Columbus, GA 31901': 202,\n",
              " '7830 - E Veterans Pkwy, Columbus, GA 31909': 203,\n",
              " '115 A 12th St, Columbus, GA 31901': 204,\n",
              " '5739 Whitesville Rd, Columbus, GA 31904': 205,\n",
              " '11269 GA Hwy 219, Hamilton, GA 31811': 206,\n",
              " '4931 50th Street, Consort, AB T0C 1B0': 207,\n",
              " '1214 N Wall St, Calhoun, GA 30701': 208,\n",
              " '555 Georgia Hwy 53, Calhoun, GA 30701': 209,\n",
              " '349 S Wall St, Calhoun, GA 30701': 210,\n",
              " '500 S. 3rd Avenue, Chatsworth, GA 30705': 211,\n",
              " '201 West Cuyler Street, Dalton, GA 30720': 212,\n",
              " '881 College Dr, Dalton, GA 30720': 213,\n",
              " '1321 W Walnut Ave, Dalton, GA 30720': 214,\n",
              " '1331 W Walnut Ave, Dalton, GA 30720': 215,\n",
              " '933 Market St, Dalton, GA 30720': 216,\n",
              " '316 N Hamilton St, Dalton, GA 30720': 217,\n",
              " '1303 W. Walnut Ave., Dalton, GA 30720': 218,\n",
              " '1513 W Walnut Ave Ste 6, Dalton, GA 30720': 219,\n",
              " '2603 Battlefield Pkwy, Fort Oglethorpe, GA 30742': 220,\n",
              " '1014 Battlefield Parkway, Fort Oglethorpe, GA 30742': 221,\n",
              " '685 Battlefield Pkwy, Fort Oglethorpe, GA 30742': 222,\n",
              " '300 W Patton St., Lafayette, GA 30728': 223,\n",
              " '5540 Highway 41, Ringgold, GA 30736': 224,\n",
              " '118 Remco Shops Lane, Ringgold, GA 30736': 225,\n",
              " '7807 Nashville St, Ringgold, GA 30736': 226,\n",
              " '56A Fieldstone Village Drive, Rock Spring, GA 30739': 227,\n",
              " '2513 53rd Avenue, Bettendorf, IA 52722': 228,\n",
              " '793 Middle Rd, Bettendorf, IA 52722': 229,\n",
              " '2561 E 53rd Ave, Bettendorf, IA 52722': 230,\n",
              " '2521 - 18th St., Bettendorf, IA 52722': 231,\n",
              " '1804 State St, Bettendorf, IA 52722': 232,\n",
              " '100 W 76th St, Davenport, IA 52806': 233,\n",
              " '589 East 53rd St, Davenport, IA 52807': 234,\n",
              " '320 W Kimberly Rd, Davenport, IA 52806': 235,\n",
              " '115 E 3rd St, Davenport, IA 52801': 236,\n",
              " '1402 W 3rd Street, IA 52802': 237,\n",
              " '4882 Utica Ridge Rd, Davenport, IA 52807': 238,\n",
              " '4811 N Brady St Ste 3, Davenport, IA 52806': 239,\n",
              " '3018 E 53rd St, Davenport, IA 52807': 240,\n",
              " '2303 E 53rd St, Davenport, IA 52807': 241,\n",
              " '208 E River Dr, Davenport, IA 52801': 242,\n",
              " '5270 Utica Ridge Rd, Davenport, IA 52807': 243,\n",
              " '3852 N Brady St, Davenport, IA 52806': 244,\n",
              " '7250 Northwest Blvd, Davenport, IA 52806': 245,\n",
              " '4901 Utica Ridge Rd, Davenport, IA 52807': 246,\n",
              " '4005 E 53rd Street, Davenport, IA 52807': 247,\n",
              " '1404 S Duff Ave, Ames, IA 50010': 248,\n",
              " '2616 Northridge Pkwy, Ames, IA 50010': 249,\n",
              " '4345 Hickman Rd, Des Moines, IA 50310': 250,\n",
              " '8801 University Ave, Clive, IA 50325': 251,\n",
              " '4100 University Avenue, West Des Moines, IA 50266': 252,\n",
              " '900 Mulberry Street, Des Moines, IA 50309': 253,\n",
              " '1007 Locust St, Des Moines, IA 50309': 254,\n",
              " '223 4th Street, Des Moines, IA 50309': 255,\n",
              " '1511 High Street, Des Moines, IA 50309': 256,\n",
              " '309 Court Ave, Des Moines, IA 50309': 257,\n",
              " '210 10th Street, Des Moines, IA 50309': 258,\n",
              " '512 E Grand Ave, Des Moines, IA 50309': 259,\n",
              " '300 E. Grand Ave., Des Moines, IA 50309': 260,\n",
              " '2200 Hubbell Ave, Des Moines, IA 50317': 261,\n",
              " '4230 Fleur Dr, Des Moines, IA 50321': 262,\n",
              " '5340 Merle Hay Road, Johnston, IA 50131': 263,\n",
              " '3100 Forest Ave, Des Moines, IA 50311': 264,\n",
              " '11151 Hickman Road, Urbandale, IA 50322': 265,\n",
              " '1410 22nd St., West Des Moines, IA 50266': 266,\n",
              " '2900 University Ave, West Des Moines, IA 50266': 267,\n",
              " '14 Beerburrum St, Dicky Beach, QLD': 268,\n",
              " '1220 Iowa St, Dubuque, IA 52001': 269,\n",
              " '1630 E 16th St, Dubuque, IA 52001': 270,\n",
              " '1091 Main St, Dubuque, IA 52001': 271,\n",
              " '350 Bell St, Dubuque, IA 52001': 272,\n",
              " '180 Main Street, Dubuque, IA 52001': 273,\n",
              " '3100 Dodge St., Dubuque, IA 52003': 274,\n",
              " '2515 NW Arterial, Dubuque, IA 52002': 275,\n",
              " '855 Century Dr, Dubuque, IA 52002': 276,\n",
              " '1795 Greyhound Park Rd, Dubuque, IA 52001': 277,\n",
              " '3187 University Ave, Dubuque, IA 52001': 278,\n",
              " '1097 Jackson St, Dubuque, IA 52001': 279,\n",
              " '1072 Main St, Dubuque, IA 52001': 280,\n",
              " '2700 Dodge St, Dubuque, IA 52003': 281,\n",
              " '700 Locust St, Dubuque, IA 52001': 282,\n",
              " '1298 Main St, Dubuque, IA 52001': 283,\n",
              " '378 Main St, Dubuque, IA 52001': 284,\n",
              " '290 Locust St, Dubuque, IA 52001': 285,\n",
              " '401 Central Ave, Dubuque, IA 52001': 286,\n",
              " '51 W 32nd Street, Dubuque, IA 52001': 287,\n",
              " '301 Bell Street, Dubuque, IA 52001': 288,\n",
              " '12 Shelly Beach Rd, East Ballina, NSW': 289,\n",
              " '135 W. Main Street, Fernley, NV 89408': 290,\n",
              " '313 Flaxton Drive, Flaxton, QLD': 291,\n",
              " '16 Grant St, Forrest, VIC': 292,\n",
              " '6323 Grand Hickory Dr Ste 200A, Braselton, GA 30517': 293,\n",
              " '515 Grant Street, Clarkesville, GA 30523': 294,\n",
              " '90 Public Sq N, Dahlonega, GA 30533': 295,\n",
              " '51 W Main St, Dahlonega, GA 30533': 296,\n",
              " '59 E Main St, Dahlonega, GA 30533': 297,\n",
              " '617 North Grove Street, Dahlonega, GA 30533': 298,\n",
              " '87 N. Chestatee St., Dahlonega, GA 30533': 299,\n",
              " '6330 Mitchell Street, Flowery Branch, GA 30542': 300,\n",
              " '5510 Church Street, Flowery Branch, GA 30542': 301,\n",
              " '5545 Atlanta Highway, Flowery Branch, GA 30542': 302,\n",
              " '227 Atlanta Highway Suite 900, Gainesville, GA 30501': 303,\n",
              " '975 Dawsonville Hwy, Gainesville, GA 30501': 304,\n",
              " '3205 Atlanta Hwy, Atlanta Highway, Gainesville, GA, Gainesville, GA 30507': 305,\n",
              " '317 Spring St SE, Gainesville, GA 30501': 306,\n",
              " '1043 Riverside Terrace, Gainesville, GA 30501': 307,\n",
              " '118 Bradford St NE, Gainesville, GA 30501': 308,\n",
              " '64 Munich Strasse, Helen, GA 30545': 309,\n",
              " '8758 N Main St, Helen, GA 30545': 310,\n",
              " '8590 N Main St Ste B, Helen, GA 30545': 311,\n",
              " '7275 S Main St., Helen, GA 30545': 312,\n",
              " '115 Main Rd, Hepburn Springs, Hepburn Springs, VIC': 313,\n",
              " '350 Hepburn-Newstead Road, Hepburn Springs, VIC': 314,\n",
              " '64 Owen St, Huskisson, NSW': 315,\n",
              " '6a Ramsay Blvd, Inverloch, VIC': 316,\n",
              " '26 Myer street, Lakes Entrance, VIC': 317,\n",
              " '109 S F St, Lakeview, OR 97630': 318,\n",
              " '129 N 10th St, Lincoln, NE 68508': 319,\n",
              " '27 Belmore Rd,, Lorn, NSW': 320,\n",
              " '23 Victoria St, Macedon, VIC': 321,\n",
              " '402 Ga. Highway 247, Bonaire, GA 31005': 322,\n",
              " '2395 Ingleside Ave, Macon, GA 31204': 323,\n",
              " '3040 Vineville Ave, Macon, GA 31204': 324,\n",
              " '3086 Riverside Dr, Macon, GA 31210': 325,\n",
              " '543 Cherry St, Macon, GA 31201': 326,\n",
              " '5080 Riverside Dr, Macon, GA 31210': 327,\n",
              " '562 Mulberry St, Macon, GA 31201': 328,\n",
              " '587 Cherry St, Macon, GA 31201': 329,\n",
              " '201 North Macon St., Macon, GA 31210': 330,\n",
              " '121 Tom Hill Sr Blvd, Macon, GA 31210': 331,\n",
              " '1289 S Houston Lake Rd, Warner Robins, GA 31088': 332,\n",
              " '2507 Moody Rd, Warner Robins, GA 31088': 333,\n",
              " '2624 Watson Blvd Ste D, Warner Robins, GA 31093': 334,\n",
              " '710 Lake Joy Road, Warner Robins, GA 31088': 335,\n",
              " '1224 Russell Pkwy, Warner Robins, GA 31088': 336,\n",
              " '1801 Watson Blvd, Warner Robins, GA 31093': 337,\n",
              " '102 S Armed Forces Boulevard, Warner Robins, GA 31088': 338,\n",
              " '1806 Russell Parkway, Warner Robins, GA 31088': 339,\n",
              " '4086 Watson Blvd, Warner Robins, GA 31093': 340,\n",
              " '58 Hanbury St, Mayfield, NSW': 341,\n",
              " '21053 State Hwy M28, Mc Millan, MI 49853': 342,\n",
              " '2 Flinders Pde, Middleton Beach, WA': 343,\n",
              " '109 N Broadway Ave, Miller, SD 57362': 344,\n",
              " '619 4th Ave, Monroe, WI 53566': 345,\n",
              " '167 Main St, Montville, QLD': 346,\n",
              " 'Ojo Caliente Mineral Springs Resort And Spa 50 Los Banos Rd, Ojo Caliente, NM 87549': 347,\n",
              " '125 West Church Street, Orlando, FL 32801': 348,\n",
              " '1600 Seven Seas Drive, Lake Buena Vista, FL 32830': 349,\n",
              " '1750 E Buena Vista Drive, Lake Buena Vista, FL 32830': 350,\n",
              " '1640 E Buena Vista Drive, Lake Buena Vista, FL 32830': 351,\n",
              " '8625 International Drive, Orlando, FL 32819': 352,\n",
              " '5259 International Drive, Orlando, FL 32819': 353,\n",
              " '8849 International Drive, Orlando, FL 32819': 354,\n",
              " '9101 International Drive,Orlando, FL 32819': 355,\n",
              " '1103 N Mills Avenue, Orlando, FL 32803': 356,\n",
              " '932 North Mills Avenue, Orlando, FL 32803': 357,\n",
              " '7700 West Sand Lake Road, Orlando, FL 32819': 358,\n",
              " '205 East 1st Street, Sanford, FL 32771': 359,\n",
              " '67 North Bumby Avenue, Orlando, FL 32803': 360,\n",
              " '1236 Hempel Avenue,Gotha, FL 34786': 361,\n",
              " '2203 Aloma Avenue, Winter Park, FL 32792': 362,\n",
              " '610 W Morse Boulevard, Winter Park, FL 32789': 363,\n",
              " '108 S Park Ave, Winter Park, FL 32789': 364,\n",
              " '601-B South New York Avenue, Winter Park, FL 32789': 365,\n",
              " '215 South Orlando Avenue, Winter Park, FL 32789': 366,\n",
              " '565 W Fairbanks Avenue, Winter Park, FL 32789': 367,\n",
              " '49 Williams Esplanade, Palm Cove, QLD': 368,\n",
              " '70 The Esplanade, Paynesville': 369,\n",
              " '39 Church St, Penola, SA': 370,\n",
              " '8725 Ortega Park Dr, Navarre, FL 32566': 371,\n",
              " '600 E Gregory Street, Pensacola, FL 32502': 372,\n",
              " '3001 E Cervantes St, Pensacola, FL 32503': 373,\n",
              " '7130 N Davis Hwy, Pensacola, FL 32504': 374,\n",
              " '311 N 9th Avenue, Pensacola, FL 32502': 375,\n",
              " '997 South Palafox, Pensacola, FL 32502': 376,\n",
              " '102 S Palafox Pl, Pensacola, FL': 377,\n",
              " '3425 N 12th Ave, Pensacola, FL 32503': 378,\n",
              " '300 S Alcaniz Street, Pensacola, FL 32502': 379,\n",
              " '27 South Palafox Pl, Pensacola, FL 32501': 380,\n",
              " '5555 N Davis Hwy Ste I, Pensacola, FL 32503': 381,\n",
              " '600 S Barracks St, Pensacola, FL 32502': 382,\n",
              " '4801 N 9th Ave, Pensacola, FL 32503': 383,\n",
              " '800 Quietwater Beach Rd, Pensacola Beach, FL 32561': 384,\n",
              " '400 Quietwater Beach Rd, Pensacola Beach, FL 32561': 385,\n",
              " '45 A Via De Luna Dr, Pensacola Beach, FL 32561': 386,\n",
              " '1010 Fort Pickens Rd, Pensacola Beach, FL 32561': 387,\n",
              " '400 Pensacola Beach Boulevard, Pensacola Beach, FL 32561': 388,\n",
              " '13310 Merilla Street, Pensacola, FL 32507': 389,\n",
              " '13486 Perdido Key Dr, Pensacola, FL 32507': 390,\n",
              " '4/17 The Esplanade, Cowes, VIC': 391,\n",
              " '302 NE Main St, Blackfoot, ID 83221': 392,\n",
              " '560 Bullock Street, Pocatello, ID 83202': 393,\n",
              " '695 E Main St, Lava Hot Springs, ID 83246': 394,\n",
              " '11 E Main St, Lava Hot Springs, ID 83246': 395,\n",
              " '626 E Lewis St, Pocatello, ID 83201': 396,\n",
              " '917 Yellowstone Avenue, Pocatello, ID 83201': 397,\n",
              " '1000 Pocatello Creek Rd Ste W2, Pocatello, ID 83201': 398,\n",
              " '559 S 5TH Ave, Pocatello, ID 83201': 399,\n",
              " '905 S 5th Ave, Pocatello, ID 83201': 400,\n",
              " '314 N Main St, Pocatello, ID 83204': 401,\n",
              " '1800 Garrett Way, Pocatello, ID 83201': 402,\n",
              " '615 South 1st Avenue, ID 83201': 403,\n",
              " '1400 Bench Rd, Pocatello, ID 83201': 404,\n",
              " '961 Hiline Rd, Pocatello, ID 83201': 405,\n",
              " '415 Yellowstone Ave, Pocatello, ID 83201': 406,\n",
              " '330 N Main Street, Pocatello, ID 83204': 407,\n",
              " '140 S. Main, Pocatello, ID 83204': 408,\n",
              " '815 S 1st Street, Pocatello, ID 83201': 409,\n",
              " '303 E Alameda Road, ID 83201': 410,\n",
              " '123 Jefferson Ave, Pocatello, ID 83201': 411,\n",
              " '1020 Barrett Lake Rd, Dulzura, CA 91917': 412,\n",
              " '258 Nassau St, Princeton, NJ 08542': 413,\n",
              " '56-505 Kamehameha Hwy, Kahuku, HI 96731': 414,\n",
              " '75-5629 Kuakini Highway, Kailua Kona, HI 96740': 415,\n",
              " '933 Kapahulu Ave, Honolulu, HI 96816': 416,\n",
              " '1279 S Kihei Road, Kihei, HI 96753': 417,\n",
              " '1945 S Kihei Road, Kihei, HI 96753': 418,\n",
              " '10 Wailea Gateway Place, Unit B-201 Kihei, Hawaii, HI 96753': 419,\n",
              " '1881 S Kihei Rd, Kihei, HI 96753': 420,\n",
              " '286 Kupuohi St, Lahaina, HI 96761': 421,\n",
              " '1285 Front St, Lahaina, HI 96761': 422,\n",
              " '5315 Lower Honoapiilani Rd, Lahaina, HI 96761': 423,\n",
              " '2435 Kaanapali Pkwy, Lahaina, HI 96761': 424,\n",
              " '845 Front St, Lahaina, HI 96761': 425,\n",
              " '799 Poho Pl, Paia, HI 96779': 426,\n",
              " '2310 Kuhio Avenue, Honolulu, HI 96815': 427,\n",
              " '226 Lewers St, Honolulu, HI 96815': 428,\n",
              " '2586 Kalakaua Ave, Honolulu, HI 96815': 429,\n",
              " '2335 Kalakaua Ave, Honolulu, HI 96815': 430,\n",
              " '343 Saratoga Road, Honolulu, HI 96815': 431,\n",
              " '1860 Ala Moana Blvd, Honolulu, HI 96815': 432,\n",
              " '102 W Congress St, Savannah, GA 31401': 433,\n",
              " '2430 Habersham Street, Savannah, GA 31401': 434,\n",
              " '212 E Broughton Street, Savannah, GA 31401': 435,\n",
              " '107 W Jones St, Savannah, GA 31401': 436,\n",
              " '108 E York Street, Savannah, GA 31401': 437,\n",
              " '21 W Bay St, Savannah, GA 31401': 438,\n",
              " '20 E Broad St, Savannah, GA 31401': 439,\n",
              " '325 E Bay St, Savannah, GA 31401': 440,\n",
              " '301 W Jones St, Savannah, GA 31401': 441,\n",
              " '39 Barnard St, Savannah, GA 31401': 442,\n",
              " '28 Drayton St, Savannah, GA 31401': 443,\n",
              " '115 E River St, Savannah, GA 31401': 444,\n",
              " '122 E. Liberty, Savannah, GA 31401': 445,\n",
              " '42 MLK Jr. Blvd, Savannah, GA 31401': 446,\n",
              " '102 West Bay St., Savannah, GA 31401': 447,\n",
              " '12 W Liberty St, Savannah, GA 31401': 448,\n",
              " '23 Abercorn St, Savannah, GA 31401': 449,\n",
              " '26 E Bay St, Savannah, GA 31401': 450,\n",
              " '40 Estill Hammock Rd, Tybee Island, GA 31328': 451,\n",
              " '1311 Butler Ave, Tybee Island, GA 31328': 452,\n",
              " '10 Bayfront Avenue, 57 Marina Bay Sands 018956': 453,\n",
              " '2 Bayfront Avenue, B1-71 Marina Bay Sands 018972': 454,\n",
              " '41 Bukit Pasoh Road 089855': 455,\n",
              " '36 Keong Saik Road 089143': 456,\n",
              " '2 Stamford Road, Level 70 Equinox Complex 178882': 457,\n",
              " '3 Duxton Hill, Duxton 089589': 458,\n",
              " '12 Haji Lane 189205': 459,\n",
              " '10 Greenwood Avenue, Hillcrest Park 289201': 460,\n",
              " '308 Tanglin Road,Phoenix Park #01-01  247974': 461,\n",
              " '115 King George Avenue, #01-02 Ann Chuan Industrial Building 208561': 462,\n",
              " '150 Tyrwhitt Road 207563': 463,\n",
              " '803 Raffles Avenue, #01-15 Esplanade Mall 039802': 464,\n",
              " '7 Raffles Avenue, Ritz-carlton Millenia Singapore 039799': 465,\n",
              " 'The Ritz-Carlton, 7 Raffles Avenue,  Millenia Singapore,  039799': 466,\n",
              " '136 Neil Road 088865': 467,\n",
              " '674 North Bridge Road, #01-01 Haji Lane 188804': 468,\n",
              " 'The Quayside\\r60 Roberston Quay #01-13 238252': 469,\n",
              " '17 Jalan Pinang 199149': 470,\n",
              " '118 Telok Ayer Street 068587': 471,\n",
              " '161 Middle Road, Sculpture Square 188978': 472,\n",
              " '224 4th Ave NE, Le Mars, IA 51031': 473,\n",
              " '2320 Transit Ave, Sioux City, IA 51106': 474,\n",
              " '800 W 7th St, Sioux City, IA 51103': 475,\n",
              " '201 Pierce St, Sioux City, IA 51101': 476,\n",
              " '513 6th St, Sioux City, IA 51101': 477,\n",
              " '4229 S Lakeport St, Sioux City, IA 51106': 478,\n",
              " '3523 Singing Hills Blvd, Sioux City, IA 51106': 479,\n",
              " '1417 Morningside Ave, Sioux City, IA 51106': 480,\n",
              " '800 Pierce St, Sioux City, IA 51101': 481,\n",
              " '2401 5th St, Sioux City, IA 51101': 482,\n",
              " '2622 Leech Ave, Sioux City, IA 51106': 483,\n",
              " '301 Douglas St, Sioux City, IA 51101': 484,\n",
              " '2945 Hamilton Blvd, Sioux City, IA 51104': 485,\n",
              " '3138 Singing Hills Blvd, Sioux City, IA 51106': 486,\n",
              " '1107 4th St, Sioux City, IA 51101': 487,\n",
              " '4567 Southern Hills Drive, Sioux City, IA 51106': 488,\n",
              " '515 W 7th St, Sioux City, IA 51103': 489,\n",
              " '523 W 19th St, Sioux City, IA 51103': 490,\n",
              " '416 Jackson St., Sioux City, IA 51101': 491,\n",
              " '385 E 4th St, South Sioux City, IA 68776': 492,\n",
              " '1800 Gulf To Bay Blvd, Clearwater, FL 33765': 493,\n",
              " '128 3rd St S, St Petersburg, FL 33701': 494,\n",
              " '204 Beach Drive Northeast, St Petersburg, FL 33701': 495,\n",
              " '10 Beach Dr, St Petersburg, FL 33701': 496,\n",
              " '332 Beach Dr NE, St Petersburg, FL 33701': 497,\n",
              " '1208 S Howard Ave, Tampa, FL 33606': 498,\n",
              " '901 W. Platt St., Tampa, FL 33606': 499,\n",
              " '912 W Kennedy Blvd, Tampa, FL 33606': 500,\n",
              " '2500 W Azeele St, Tampa, FL 33609': 501,\n",
              " '901 S Howard Avenue, Tampa, FL 33606': 502,\n",
              " '19325 Gulf Blvd, Indian Shores, FL 33785': 503,\n",
              " '2909 22nd Ave N, St Petersburg, FL 33713': 504,\n",
              " '16699 Gulf Blvd, North Redington Beach, FL 33708': 505,\n",
              " '14929 Bruce B Downs Blvd, Tampa, FL 33612': 506,\n",
              " '4912 4th St N, St Petersburg, FL 33703': 507,\n",
              " '2616 S Macdill Avenue, Tampa, FL 33629': 508,\n",
              " '5119 N Nebraska Ave, Tampa, FL 33603': 509,\n",
              " '913 E Hillsborough Ave, Tampa, FL 33604': 510,\n",
              " '5137 N. Florida Ave., Tampa, FL 33603': 511,\n",
              " '2117 E 7th Ave, Tampa, FL 33605': 512,\n",
              " '94 Murray St, Tanunda, SA': 513,\n",
              " 'Pearsons Rd, Trentham East, VIC': 514,\n",
              " '1553 Baytree Rd., Valdosta, GA 31602': 515,\n",
              " '1713 Gornto Rd, Valdosta, GA 31601': 516,\n",
              " '306 N Patterson St, Valdosta, GA 31601': 517,\n",
              " '2101 W Hill Ave, Valdosta, GA 31601': 518,\n",
              " '1715 C Norman Drive, Valdosta, GA 31601': 519,\n",
              " '125 N Patterson St, Valdosta, GA 31601': 520,\n",
              " '116 W Hill Ave, Valdosta, GA 31601': 521,\n",
              " '1700 W Hill Ave, Valdosta, GA 31601': 522,\n",
              " '270 Norman Drive, Valdosta, GA 31601': 523,\n",
              " '1600 N. Ashley St., Valdosta, GA 31602': 524,\n",
              " '3338-B Country Club Rd, GA 31605': 525,\n",
              " '105 E Ann St, Valdosta, GA 31601': 526,\n",
              " '1300 N. Ashley St., Valdosta, GA 31601': 527,\n",
              " '1337 Baytree Rd, Valdosta, GA 31602': 528,\n",
              " '4143 N Valdosta Rd, Valdosta, GA 31602': 529,\n",
              " '1709 Norman Dr, Valdosta, GA 31601': 530,\n",
              " '2910 N Ashley St Ste E, Valdosta, GA 31602': 531,\n",
              " '2801 N Ashley St, Valdosta, GA 31602': 532,\n",
              " '132 N. Patterson St, Valdosta, GA 31601': 533,\n",
              " '4228 N Valdosta Rd, Valdosta, GA 31602': 534,\n",
              " '919 Bridge St, Vernonia, OR 97064': 535,\n",
              " '21 Flinders Parade, Victor Harbor, SA': 536,\n",
              " '3100 N Service Rd, Vineland Station, ON L0R2E0': 537,\n",
              " '911 W 23rd St, Cedar Falls, IA 50613': 538,\n",
              " '1111 Center St, Cedar Falls, IA 50613': 539,\n",
              " '1310 W 1st St, Cedar Falls, IA 50613': 540,\n",
              " '6306 University Ave, Cedar Falls, IA 50613': 541,\n",
              " '6301 University Ave, Cedar Falls, IA 50613': 542,\n",
              " '1724 West 31st Street, Cedar Falls, IA 50613': 543,\n",
              " '222 Main St, Cedar Falls, IA 50613': 544,\n",
              " '205 E 18th St, Cedar Falls, IA 50613': 545,\n",
              " '5719 university avenue, Cedar Falls, IA 50613': 546,\n",
              " '315 Main St, Cedar Falls, IA 50613': 547,\n",
              " '119 Main St, Cedar Falls, IA 50613': 548,\n",
              " '5715 University Ave, Cedar Falls, IA 50613': 549,\n",
              " '407 Main St, Cedar Falls, IA 50613': 550,\n",
              " '900 La Porte Road, Waterloo, IA 50702': 551,\n",
              " '622 Commercial Street, Waterloo, IA 50701': 552,\n",
              " '106 Brookridge Dr, IA 50702': 553,\n",
              " '2401 Falls Avenue, IA 50701': 554,\n",
              " '228 E 4th St., Waterloo, IA 50703': 555,\n",
              " '624 Sycamore Street, Waterloo, IA 50703': 556,\n",
              " '1931 Sears Street, Waterloo, IA 50702': 557,\n",
              " '322 American Way, Weirton, WV 26062': 558,\n",
              " '196 Bayfront Loop, Winchester Bay, OR 97467': 559,\n",
              " '14 Second Ave North, Yorkton, SK S3N 1G1': 560,\n",
              " 'Abu Dhabi Mall, Tourist Club Area (Al Zahiyah), Abu Dhabi': 561,\n",
              " 'Near The One, Level 3, Abu Dhabi Mall, Tourist Club Area (Al Zahiyah), Abu Dhabi': 562,\n",
              " 'Near Corner of Salam and Al Falah Street (9th Street), Salam Street, Al Dhafrah, Abu Dhabi': 563,\n",
              " 'Next to ADNOC Petrol Station, Muroor Road, Al Dhafrah, Abu Dhabi': 564,\n",
              " 'Inside Mushrif Park, Al Mushrif, Abu Dhabi': 565,\n",
              " 'Level 2, Al Wahda Mall New Extension, Al Wahda, Abu Dhabi': 566,\n",
              " 'Level 3, Al Wahda Mall Extension, Al Wahda, Abu Dhabi': 567,\n",
              " 'Crowne Plaza Abu Dhabi, Sheikh Hamdan Bin Mohammed Street, Al Markaziya, Abu Dhabi': 568,\n",
              " 'Ground Level, Next to E-Max, Dalma Mall, Mussafah Sanaiya, Abu Dhabi': 569,\n",
              " 'Opposite Cristal Hotel, Behind KM Trading, Electra Street, Madinat Zayed, Abu Dhabi': 570,\n",
              " 'Food Court, Level 2, Madinat Zayed Shopping Centre, Madinat Zayed, Abu Dhabi': 571,\n",
              " 'Level 3, Mushrif Mall, Al Mushrif, Abu Dhabi': 572,\n",
              " 'Behind RAK Bank, Sanaiya ME11, Mussafah Sanaiya, Abu Dhabi': 573,\n",
              " 'Al Najda Street, Najda, Abu Dhabi': 574,\n",
              " 'Shop 2-3, Tolico Building, Behind Lebanese Roastery, Near National Hospital, Najda, Abu Dhabi': 575,\n",
              " 'Near First Flight Couriers, Behind ADNOC Head Office, Salam Street, Najda Area, Najda, Abu Dhabi': 576,\n",
              " 'Venetian Village, Ritz Carlton Abu Dhabi, Grand Canal, Al Maqtaa, Abu Dhabi': 577,\n",
              " '6th Floor, World Trade Centre Mall, Al Markaziya, Abu Dhabi': 578,\n",
              " 'Level 1, World Trade Center Mall, Central Market, Al Markaziya, Abu Dhabi': 579,\n",
              " 'Level 1, Yas Mall, Yas Leisure Dr, Yas Island, Abu Dhabi': 580,\n",
              " 'Al Barari Villas, Opposite Falcon City, Al Barari, Dubai': 581,\n",
              " 'Ground Level, Hamsah Mall, Next to Ansar Gallery, Al Karama, Dubai': 582,\n",
              " 'Zainal Mohebi Plaza, Sheikh Khalifa Bin Zayed Road, Opposite Centrepoint, Al Karama, Dubai': 583,\n",
              " 'G1, Villa, Near HQ Fitness, Near Lulu Mall, Barsha 2, Dubai': 584,\n",
              " 'CITY WALK, Al Safa & Al Wasl Road Intersection, Al Safa, Dubai': 585,\n",
              " 'Mezzanaine Floor, Centurion Star Tower, Deira City Centre Area, Dubai': 586,\n",
              " 'Podium Level, Burj Daman, DIFC, Dubai': 587,\n",
              " 'Shop G05, Sidra Tower, Near GEMS Wellington School, Exit 36, Sheikh Zayed Road, Dubai Media City, Dubai': 588,\n",
              " \"Next to Marks & Spencer's, Festival City, Dubai\": 589,\n",
              " 'Wasl Vita, Opposite Civil Defence Station, Near Emirates NBD, Al Wasl Road, Jumeirah 1, Dubai': 590,\n",
              " 'Kite Beach, Street 2D, Umm Suqeim, Dubai': 591,\n",
              " 'Level 2 Expansion, Mall of the Emirates, Barsha 1, Dubai': 592,\n",
              " 'Opposite Aster Hospital, Near Sharaf DG, Kuwait Street, Mankhool, Dubai': 593,\n",
              " 'Level 2, Nassima Royal Hotel, Sheikh Zayad Road, Trade Centre Area, Dubai': 594,\n",
              " 'Al Mina Road, Next to Ibis Styles Jumeirah Hotel, Satwa, Dubai': 595,\n",
              " 'Near the Fountain, Lower Ground Level, The Dubai Mall, Downtown Dubai, Dubai': 596,\n",
              " 'Ground Level, Near Aquarium, The Dubai Mall, Downtown Dubai, Dubai': 597,\n",
              " 'The Dubai Mall, Downtown Dubai, Dubai': 598,\n",
              " 'Sheikh Issa Tower, Sheikh Zayed Road, Trade Centre Area, Dubai': 599,\n",
              " 'Building 41, Next to Dubai Healthcare City Metro Station, Dubai Healthcare City, Umm Hurair, Dubai': 600,\n",
              " 'Opposite HSBC, Near Emax, King Faisal Street, Abu Shagara, Sharjah': 601,\n",
              " 'Near New City Center Supermarket, Abu Shagara, Sharjah': 602,\n",
              " 'Opposite Safeer Market, Near E max, King Faisal Street, Abu Shagara, Sharjah': 603,\n",
              " 'Opposite Safeer Market, Al Khan Street, Al Khan, Sharjah': 604,\n",
              " 'Al Buhaira Corniche Street, Al Majaz Water Front, Al Majaz, Sharjah': 605,\n",
              " 'Al Khan Street, Al Majaz 3, Al Majaz, Sharjah': 606,\n",
              " 'Near Etisalat Business Center, Opposite ADNOC Petrol Station, Al Khan Street, Al Majaz 2, Al Majaz, Sharjah': 607,\n",
              " 'Near Sharjah Animal Market, Al Mina Road, Al Mareija, Sharjah': 608,\n",
              " 'Mina Road, Opposite Bird Market, Al Mareija, Sharjah': 609,\n",
              " 'Next to Safeer Mall, Al Nahda, Sharjah': 610,\n",
              " 'Near Safeer Mall, Al Nahda, Sharjah': 611,\n",
              " 'Opposite Emirates NBD, Near First Gulf Bank, King Abdul Aziz Street, Al Nud, Sharjah': 612,\n",
              " 'Ground level, Block D, Qanat Al Qasba, Al Khan, Sharjah': 613,\n",
              " 'Opposite Spinneys Roundabout, Estiqlal Square, Halwan Suburb, Sharjah': 614,\n",
              " 'Majaz Waterfront, Buhairah Corniche, Al Majaz 3, Al Majaz, Sharjah': 615,\n",
              " 'Behind DPS Sharjah Primary School, Muwailih Commercial, Sharjah': 616,\n",
              " 'Opposite Jumbo Electronics, Level 2, Sahara Centre, Al Nahda, Sharjah': 617,\n",
              " 'Near Dubai Islamic Bank, Muweilah, University City, Sharjah': 618,\n",
              " 'Behind ADNOC Petrol Station,\\rUnivercity City Road, University City, Sharjah': 619,\n",
              " 'Next To Super Bonanza Hyper Market, Opposite Defence Camp, University City, Sharjah': 620,\n",
              " 'E 23, Shopping Arcade, Sadar Bazaar, Agra Cantt, Agra': 621,\n",
              " 'E-20, Shopping Arcade, Sadar Bazaar, Agra Cantt, Agra': 622,\n",
              " 'Main Market, Sadar Bazaar, Agra Cantt, Agra': 623,\n",
              " '1/48, Delhi Gate, Station Road, Raja Mandi, Civil Lines, Agra': 624,\n",
              " '23/453, Opposite Sanjay Cinema, Wazipura Road, Sanjay Place, Civil Lines, Agra': 625,\n",
              " 'Courtyard by Marriott Agra, Phase 2, Fatehabad Road, Tajganj, Agra': 626,\n",
              " 'ITC Mughal, Fatehabad Road, Tajganj, Agra': 627,\n",
              " '3/20, KPS Tower, Near Tulsi Talkies, Bypass Road, Khandari, Agra': 628,\n",
              " 'Radisson Blu, Taj East Gate Road, Tajganj, Agra': 629,\n",
              " 'Meher Cinema Complex, Gwalior Road, Rakabganj, Agra': 630,\n",
              " 'Hotel Samovar, Fatehabad Road, Tajganj, Agra': 631,\n",
              " 'Opposite The Gateway Hotel, Fatehabad Road, Tajganj, Agra': 632,\n",
              " 'Parador Hotel, 3A-3B, Phase 1, Fatehabad Road, Taj Nagri, Tajganj, Agra': 633,\n",
              " '1374 K/1375 K, 2nd floor, Dinesh Nagar, Fatehbad Road, Tajganj, Agra': 634,\n",
              " 'Opposite Saga Emporium, Fatehabad Road, Tajganj, Agra': 635,\n",
              " '8, Handicraft Nagar, Fatehabad Road, Tajganj, Agra': 636,\n",
              " 'Near Purani Mandi Crossing,Fatehabad Road, Tajganj, Agra': 637,\n",
              " 'Next To ITC Mughal Hotel, Fatehabad Road, Tajganj, Agra': 638,\n",
              " 'Shreekunj Mandapam, Beside Golden Tulip Bunglows & Tulip Citadel, Manekbaug, Ambavadi, Ahmedabad': 639,\n",
              " 'Chinubhai Tower, Nehru Bridge Corner, Ashram Road, Ahmedabad': 640,\n",
              " '7 B, Circle  B, Opposite Rajpath Club, Sarkhej, Gandhinagar Highway, Bodakdev, Ahmedabad': 641,\n",
              " 'Opposite Sindhu Bhawan, Bodakdev, Ahmedabad': 642,\n",
              " 'Ground Floor, Maruti Crystal, Opposite Rajpath Club, Service Road, Bodakdev, Ahmedabad': 643,\n",
              " 'Shop 10,  Circle B, Nyay Marg, Bodakdev, Ahmedabad': 644,\n",
              " '6-9, Ground Floor, Devashish Business Park, Opposite Krishna Complex, Bodakdev, Ahmedabad': 645,\n",
              " '10th Floor, Balaji Heights Buliding, Behind Tanishq Showroom, C G Road, Ahmedabad': 646,\n",
              " 'Courtyard By Marriott, Ramdevnagar Cross Road, Satellite, Ahmedabad': 647,\n",
              " 'Ground Floor, Arjun Avenue, Opposite Samartheshwar Mahadev, Law Garden, Ahmedabad': 648,\n",
              " 'Near Law Garden, Ellis Bridge, Ahmedabad': 649,\n",
              " 'At Five Petals Hotel & Banquets, Near Chanakyapuri Bridge, Ghatlodia, Ahmedabad': 650,\n",
              " 'JB Tower, Opposite Doordarshan Kendra, Drive In Road, Gurukul, Ahmedabad': 651,\n",
              " '103, Kairos, Opposite Mahatma Gandhi Labour Institute, Drive In Road, Gurukul, Ahmedabad': 652,\n",
              " '101, Dynamic House, Vijay Cross Road, Above HDFC Bank, Opposite Child Care Hospital, Navrangpura, Ahmedabad': 653,\n",
              " '34, Shribhuvan Complex, Near Memnagar Fire Station, Navrangpura, Ahmedabad': 654,\n",
              " '12, First Floor, Camps Corner 2, Opposite Prahlad Nagar Garden, Prahlad Nagar, Ahmedabad': 655,\n",
              " '4, Ground Floor, Binori Ambit, Next to Renault Showroom, Thaltej Circle, Thaltej, Ahmedabad': 656,\n",
              " 'The Fern, Near Sola Overbridge, S G Highway, Sola, Ahmedabad': 657,\n",
              " '27, Sunshine Villa, Sunrise Park Society, Vastrapur, Ahmedabad': 658,\n",
              " 'Ground Floor, Shanay - 1, Near AMA, IIM Road, Vastrapur, Ahmedabad': 659,\n",
              " 'Ground Floor, Vinayak City Centre, Sardar Patel Marg, Civil Lines, Allahabad': 660,\n",
              " 'Vinayak Pushp, 77 Elgin Road, Near Florista, Civil Lines, Allahabad': 661,\n",
              " '2A, JMD Bhawan, Strachey Road, Civil Lines, Allahabad': 662,\n",
              " '2, MG Marg, Opposite Hanuman Mandir, Civil Lines, Allahabad': 663,\n",
              " '13/13, Sardar Patel Marg, Civil Lines, Allahabad': 664,\n",
              " '57 A, Purshottamdas Tandon Marg, Civil Lines, Allahabad': 665,\n",
              " 'P Square Mall, Civil Lines, Allahabad': 666,\n",
              " 'Shop 4, 34-B, M G Marg, Civil Lines, Allahabad': 667,\n",
              " '5-A, Sardar Patel Marg, Civil Lines, Allahabad': 668,\n",
              " '31/31, Sardar Patel Marg, Civil Lines, Allahabad': 669,\n",
              " '207/53, Mahatma Gandhi Marg, Civil Lines, Allahabad': 670,\n",
              " '17/33, Mahatama Gandhi Marg, Civil Lines, Allahabad': 671,\n",
              " 'Near Vishal Megamart, Civil Lines, Allahabad': 672,\n",
              " '60 C, Thornhill Road, Civil Lines, Allahabad': 673,\n",
              " '24, Mahatma Gandhi, Civil Lines, Allahabad': 674,\n",
              " 'Palace Compound, Near Palace Cinema, MG Marg, Civil Lines, Allahabad': 675,\n",
              " '21 C, Lal Bhadhur Shastri Marg, Civil Lines, Allahabad': 676,\n",
              " '19/35, MG Marg, Civil Lines, Allahabad': 677,\n",
              " '3/3, Near Balson Crossing, Hashimpur Road, Tagore Town, Allahabad': 678,\n",
              " 'Second Floor, Vinayak City Center Mall, SP Marg, Civil Lines, Allahabad': 679,\n",
              " '21-A, Near Madaan Hospital, Majitha Road, Basant Nagar, Amritsar': 680,\n",
              " 'Shop 3, Opposite Nari Nikaten, Majithia Road, Near Basant Nagar, Amritsar': 681,\n",
              " 'Dhab Khatikan, Near Hindu College, Hathi Gate, Amritsar': 682,\n",
              " 'Crystal Chowk, Queens Road, INA Colony, Amritsar': 683,\n",
              " 'Crystal Chowk, Cooper Road, Near INA Colony': 684,\n",
              " 'Near Crystal Chowk, Cooper Road, INA Colony, Amritsar': 685,\n",
              " 'SCF 27, C Block Market, Ranjit Avenue, Amritsar': 686,\n",
              " '108, GRD Towers, District Shopping Center, Ranjit Avenue, Amritsar': 687,\n",
              " 'SCO 6, District Shopping Complex, Ranjit Avenue, Amritsar': 688,\n",
              " 'M 47, Green Avenue, opp Main Park, Amritsar': 689,\n",
              " 'Opposite M.K Hotel, District Shopping Centre, Ranjit Avenue, Amritsar': 690,\n",
              " 'Opposite Gurudwara Saragarhi, Near Dharm Singh Market Chowk, Fuwara, Town Hall, Amritsar': 691,\n",
              " 'Near Amritsar Municipal Corporation, Town Hall, Amritsar': 692,\n",
              " 'Golden Temple Out Road, Opposite Amritsar Municipal Corporation, Town Hall, Amritsar': 693,\n",
              " 'Phawara Chowk, Town Hall, Amritsar': 694,\n",
              " 'Near Golden Temple, Town Hall, Amritsar': 695,\n",
              " 'Near Telephone Exchange, Chowk Passian, Shastri Market, Near Town Hall, Amritsar': 696,\n",
              " 'Opposite Bandari Hospital, Sehaj Avenue, Majitha Road, Near White Avenue, Amritsar': 697,\n",
              " 'Shop 4, Nehru Shopping Complex, Lawrence Road, White Avenue, Amritsar': 698,\n",
              " 'Shop 1, Opposite Bijli Pehalwan Mandir, Lawrence Road, White Avenue, Amritsar': 699,\n",
              " '2, Near Akashwani Circle, Mahesh Nagar, Jalna Road, Akashwani, Aurangabad': 700,\n",
              " 'Shendra, Near Cambridge School, Jalna Road, Chicalthana, Aurangabad': 701,\n",
              " 'Seven Hill Flyover, Jalna Road, Vidya Nagar, CIDCO, Aurangabad': 702,\n",
              " '8, Upper Ground Floor, City Pride Commercial Complex, Kali Bawdi, Jalna Road, CIDCO, Aurangabad': 703,\n",
              " 'Goodwill Complex, Opposite Cidco Busstand, N-2, CIDCO, Aurangabad': 704,\n",
              " 'Plot 2, Near High Court, N-3, CIDCO, Aurangabad': 705,\n",
              " 'Welcome Hotel Rama International, Opposite High Court, CIDCO, Aurangabad': 706,\n",
              " '31, Kailash Arcade, Opposite Bank of Baroda, Connaught Place, CIDCO, Aurangabad': 707,\n",
              " 'Sakal Office, Jalna Road, CIDCO, Aurangabad': 708,\n",
              " 'Hotel Green Olive, Near Baba Petrol Pump, Nirala Bazar, Aurangabad': 709,\n",
              " 'Opposite Municipal Car Parking, Paithan Gate, Near Mondha, Aurangabad': 710,\n",
              " '31, Opposite Kohinoor Plaza, Near M P Law College, Nirala Bazar, Aurangabad': 711,\n",
              " 'A1-A3, Motiwala Complex, Below KFC Restaurant, Nirala Bazar, Aurangabad': 712,\n",
              " 'Near Vivekanand College, Samarth Nagar, Nirala Bazar Road, Aurangabad': 713,\n",
              " 'First Floor, Bhau Pathak Smriti Kamgar Bhavan, CBS Road, Nirala Bazar, Aurangabad': 714,\n",
              " '6&7 B, Kuber Avenue, Rana Nagar, Near Nyay Nagar, Aurangabad': 715,\n",
              " 'First Floor, Food Court, Prozone Mall, MIDC Industrial Area, Chicalthana, Aurangabad': 716,\n",
              " 'Near Bhadkal Gate, VIP Road, Shahgunj, Aurangabad': 717,\n",
              " 'Rachanakar colony, Railway Station Road, Usmanpura, Aurangabad': 718,\n",
              " 'Near Gopal Tea Corner, Usmanpura Circle, Usmanpura, Aurangabad': 719,\n",
              " 'BluPetal Hotel, 60 Jyoti Nivas College Road, Koramangala 5th Block, Bangalore': 720,\n",
              " '610, 3rd Floor, 12th Main, Off 80 Feet Road, Indiranagar, Bangalore': 721,\n",
              " '298, Namma Metro Pillar 62, 100 Feet Road, Indiranagar, Bangalore': 722,\n",
              " '840/1,100 Feet Road, Metro Pillar 56-57, Indiranagar, Bangalore': 723,\n",
              " '2989/B, 12th Main Road, HAL 2nd Stage, Indiranagar, Bangalore': 724,\n",
              " '297, 100 Feet Road, Indiranagar, Bangalore': 725,\n",
              " '501, Binnamangala Extension, 1st stage, C.M.H Road, Indiranagar, Bangalore': 726,\n",
              " 'Site 15, 15th Cross, 100 Feet Road, 4th Phase, JP Nagar, Bangalore': 727,\n",
              " '44, 4th B Cross, Koramangala 5th Block, Bangalore': 728,\n",
              " \"28, 4th 'B' Cross, Koramangala 5th Block, Bangalore\": 729,\n",
              " '105, 1st A Cross Road, Jyothi Nivas College Road, Koramangala 5th Block, Bangalore': 730,\n",
              " '11, 80 Feet Road, Opposite Indian Oil Petrol Pump, Koramangala 6th Block, Bangalore': 731,\n",
              " '118, Koramangala Industrial Area, Koramangala 7th Block, Bangalore': 732,\n",
              " '90/4, 3rd Floor, Outer Ring Road, Munnekollaly Village, Marathahalli, Bangalore': 733,\n",
              " '9/1, 1st Floor, Above Surya Nissan, VRR Orchid, Doddanakkundi, Marathahalli, Bangalore': 734,\n",
              " '215, 216 & 220, Devasandra Village, Kasaba Hobli, New BEL Road, Bangalore': 735,\n",
              " '67 & 68, Brigade Solitaire, Opposite to Advaith Hyundai, Residency Road, Bangalore': 736,\n",
              " 'Behind MK Retail, Before WIPRO Corporate Office, Sarjapur Road, Bangalore': 737,\n",
              " 'BBMP 2034/69, Block 2, Kaikondrahalli, Varthur Hobli, Sarjapur Road, Bangalore': 738,\n",
              " '202, Level 2, UB City, Vittal Mallya Road, Lavelle Road, Bangalore': 739,\n",
              " 'G-1, Raksha Tower, Eden Garden, Arera Colony, Bhopal': 740,\n",
              " '4th floor,10th Cross Road Building, Above Vishal Fitness Centre, 10 Main Road, Arera Colony, Bhopal': 741,\n",
              " '10, Number Market, Arera Colony, Bhopal': 742,\n",
              " '110/7, Mandakini, Opposite Union Bank, Kolar Main Road, Arera Colony, Bhopal': 743,\n",
              " 'B-1, GM Tower,  Stop No. 10, Arera Colony, Bhopal': 744,\n",
              " 'Third Floor, DB City Mall, Maharana Pratap Nagar, Bhopal': 745,\n",
              " '12-13, Food Court, DB City Mall, Maharana Pratap Nagar, Bhopal': 746,\n",
              " 'Third Floor, DB City Mall, Arera Hills, Maharana Pratap Nagar, Bhopal': 747,\n",
              " 'A-66A, Jai Bhawani Housing Society, Bawadiyan Kalan, Gulmohar Colony, Bhopal': 748,\n",
              " 'Shop 3-4, Plot 5B, Sai Mehndi Appartment, B.D.A,  Kohefiza Main Road, Kohefiza, Bhopal': 749,\n",
              " 'Behind Jyoti Cineplex, Zone 1, Maharana Pratap Nagar, Bhopal': 750,\n",
              " '177, Zone 2, Maharana Pratap Nagar, Bhopal': 751,\n",
              " 'R-24, Zone II, Maharana Pratap Nagar, Bhopal': 752,\n",
              " 'Near Jyoti Cineplex, Zone 1, Maharana Pratap Nagar, Bhopal': 753,\n",
              " '132, Zone 1, Maharana Pratap Nagar, Bhopal': 754,\n",
              " '6, Hamidia Road, Opposite Alpana Cineplex, Peer Gate Area, Bhopal': 755,\n",
              " 'A-3,Van Vihar Road, Prempura, TT Nagar, Bhopal': 756,\n",
              " 'Near Apex Bank, TT Nagar, Bhopal': 757,\n",
              " 'Hotel Lake View Ashoka, 5th Floor, Shyamla Hills, TT Nagar, Bhopal': 758,\n",
              " 'Bhadbhada Road, Near Rang Mahal Talkies, TT Nagar, Bhopal': 759,\n",
              " '3rd Floor, BMC Bhawani Mall, Sahid Nagar, Bhubaneshwar': 760,\n",
              " 'Ground Floor, BMC Bhawani Mall, Sahid Nagar, Bhubaneshwar': 761,\n",
              " 'Plot 12-13/557, 3rd Floor, Mauza Samantapuri,Gajapati Nagar, Chandrasekharpur, Bhubaneshwar': 762,\n",
              " 'Plot 133/A, District Center, Chandrasekharpur, Bhubaneshwar': 763,\n",
              " 'District Center, Niladri Vihar Road, Chandrasekharpur, Bhubaneshwar': 764,\n",
              " '139, District Center, Chandrasekharpur, Bhubaneshwar': 765,\n",
              " '7798, Sainik School Road, Gajapati Nagar, Bhubaneswar, Gajapati Nagar, Bhubaneshwar': 766,\n",
              " 'Mayfair Lagoon, 8-B, Jayadev Vihar, Bhubaneshwar': 767,\n",
              " 'B36, Chandaka Industrial Estate, Near CTTC, Patia, Bhubaneshwar': 768,\n",
              " '4th Floor, SJ Complex, KIIT College Road, Patia, Bhubaneshwar': 769,\n",
              " 'DS Tower, 2nd Floor, Plot 516/1763/4177, Near Big Bazar, Patia, Bhubaneshwar': 770,\n",
              " 'Sampark Vihar, Opposite Big Bazaar, KIIT Square, Patia, Bhubaneshwar': 771,\n",
              " 'Rooftop Bata Showroom, KIIT Square, Patia, Bhubaneshwar': 772,\n",
              " 'Above Patia Pantaloons, Nandankanan Road, Patia, Bhubaneshwar': 773,\n",
              " '3, Infocity Road, Patia, Bhubaneshwar': 774,\n",
              " 'KIIT Road, PS Plaza, Patia, Bhubaneshwar': 775,\n",
              " 'KIIT Road, Opposite SBI, Patia, Bhubaneshwar': 776,\n",
              " '797, Near Shivam Honda Showroom, Sahid Nagar, Bhubaneshwar': 777,\n",
              " 'A-54, Opposite Law University, Sahid Nagar, Bhubaneshwar': 778,\n",
              " 'The Crown, A1, Near IRC Village, Nayapalli, Bhubaneshwar': 779,\n",
              " '206, 3rd Floor, Suryansh Enclave, Shastri Nagar, Unit 4, Bhubaneshwar': 780,\n",
              " 'Phase 1, Chandigarh Industrial Area, Chandigarh': 781,\n",
              " 'Courtyard, Elante Mall, Phase 1, Chandigarh Industrial Area, Chandigarh': 782,\n",
              " '312 B, 3rd Floor, Elante Mall, Phase 1, Chandigarh Industrial Area, Chandigarh': 783,\n",
              " '312 A, 3rd Floor, Elante Mall, Phase 1, Chandigarh Industrial Area, Chandigarh': 784,\n",
              " 'Ground Floor, Elante Mall, Phase 1, Chandigarh Industrial Area, Chandigarh': 785,\n",
              " '313, Third Floor, Elante Mall, Phase 1, Chandigarh Industrial Area, Chandigarh': 786,\n",
              " 'SCO 39, Madhya Marg, Sector 26, Chandigarh': 787,\n",
              " 'SCO 51, Madhya Marg, Sector 26, Chandigarh': 788,\n",
              " 'SCO 151 & 152, Sector 28 D, Sector 28, Chandigarh': 789,\n",
              " 'SCO 329-332, Sector 35B, Sector 35, Chandigarh': 790,\n",
              " 'SCO 441 & 442, Sector 35 C, Sector 35, Chandigarh': 791,\n",
              " 'SCO 437 & 438, Sector 35 C, Sector 35, Chandigarh': 792,\n",
              " 'SCO 446 Sector 35 C, Sector 35, Chandigarh': 793,\n",
              " 'SCO 453-454, Sector 35C, Sector 35, Chandigarh': 794,\n",
              " 'SCO 33, Madhya Marg, Sector 7, Chandigarh': 795,\n",
              " 'Backside, SCO 1A, Madhya Marg, Sector 7, Chandigarh': 796,\n",
              " 'Booth 70, Sector 8, Chandigarh': 797,\n",
              " 'Booth 11, Sector 8, Chandigarh': 798,\n",
              " '34/29, 2nd Main Road, Kasturibai Nagar, Adyar, Chennai': 799,\n",
              " '273, F13, New Number 71, 2nd Main Road, Anna Nagar East, Chennai': 800,\n",
              " '21/11, J Block, 6th Avenue Main Road, Anna Nagar East, Chennai': 801,\n",
              " '95, Jawaharlal Nehru Salai, Jafferkhanpet, Ashok Nagar, Chennai': 802,\n",
              " \"49 & 50 L, Express Avenue Mall, White's Road, Royapettah, Chennai\": 803,\n",
              " \"98, Peter's Road, Behind Philip's Service Centre, Gopalapuram, Chennai\": 804,\n",
              " '1/9, Dr. Vasudevan Street, Ormes Road, Kilpauk, Chennai': 805,\n",
              " '47, Gandhi Mandapam Road, Kotturpuram, Chennai': 806,\n",
              " '20/3, Bishop Wallers Avenue, Mylapore, Chennai': 807,\n",
              " '3, College Lane, Nungambakkam, Chennai': 808,\n",
              " '14, Sterling Avenue, Nungambakkam, Chennai': 809,\n",
              " '392, Anjali Devi Towers Kandanchavadi, OMR, Perungudi, Chennai': 810,\n",
              " '57, 2nd Main Road, RA Puram, Chennai': 811,\n",
              " 'Plot 8, Park Dugar, Mount Poonamallee High Road, Ramapuram, Chennai': 812,\n",
              " '111/108, Santhome High Road, Foreshore Estate, Santhome, Chennai': 813,\n",
              " '58-A, Habibullah Road, T. Nagar, Chennai': 814,\n",
              " 'Shri Devi Park Hotel, 1, Hanumantha Road, North Usman Road, T. Nagar, Chennai': 815,\n",
              " 'Velachery Tharamani Link Road, Opposite TCS, Velachery, Chennai': 816,\n",
              " '17-18, Rajalakshmi Nagar, 7th Cross Street, 100 Feet Bypass Road, Velachery, Chennai': 817,\n",
              " '2, Sarathy Nagar, 1st Main Road, Velachery, Chennai': 818,\n",
              " '353/1, Hotel Landmark Complex, Bharathiaar Road, Gandhipuram, Coimbatore': 819,\n",
              " '2, Bharathi Colony, Peelamedu, Coimbatore': 820,\n",
              " '267, B.R. Puram, Near Royal Enfield Showroom, Avinashi Road, Peelamedu, Coimbatore': 821,\n",
              " 'GRG College Road, Opposite Rajasree Ford Showroom, Peelamedu, Coimbatore': 822,\n",
              " 'Avinashi Road, Near PSG College Of Technology, Peelamedu, Coimbatore': 823,\n",
              " '479-B1, Avinashi Road, Near Suguna Kalyana Mandapam, Peelamedu, Coimbatore': 824,\n",
              " '1A, Pollachi Main Road, Eachanari, Podanur, Coimbatore': 825,\n",
              " '207/A, CSI Compound, Opposite Photo Centre, Race Course, Coimbatore': 826,\n",
              " '28, Opposite Circuit House, Behind HDFC, Race Course, Coimbatore': 827,\n",
              " '156, Race Course Road, Race Course, Coimbatore': 828,\n",
              " '122, 4th Floor, Appusamy Layout, Red Fields, Race Course, Coimbatore': 829,\n",
              " '245/1, Near Veejay Hall, Raheja Apartment, Race Course, Coimbatore': 830,\n",
              " '128/180, Orbit Avenue, Thirugnanasambandam Road, Opposite Bishop Appasamy College, Gopalapuram, Race Course, Coimbatore': 831,\n",
              " '167, Race Course Road, Gopalapuram, Race Course, Coimbatore': 832,\n",
              " '75, East Arokiasamy Road, RS Puram, Coimbatore': 833,\n",
              " '24/49, TV Swamy Road East, Opposite Emeral Building, RS Puram, Coimbatore': 834,\n",
              " '6/1, SRP Nagar, Saibaba Colony, Coimbatore': 835,\n",
              " '69, Bharathi Park, 6th Cross, Saibaba Colony, Coimbatore': 836,\n",
              " 'Creamstone , 1335, Avinashi Road, Opposite Bharath Petrol Bunk, Peelamedu, Coimbatore': 837,\n",
              " '6th Floor, Metro Park Inn, 1000, Raja Street, Near Clock Tower, Town Hall, Coimbatore': 838,\n",
              " '27 B, Near Premier Plaza, Rajpur Road, Chukkuwala, Dehradun': 839,\n",
              " \"27 B, Rajpur Road, Opposite St. Joseph's Academy, Chukkuwala, Dehradun\": 840,\n",
              " '69, Krishna Tower, Rajpur Road, Hathibarkala Salwala, Dehradun': 841,\n",
              " '101, Rajpur Road, Hathibarkala Salwala, Dehradun': 842,\n",
              " '88 A, Opposite Osho, Chander Lok Colony, Rajpur Road, Hathibarkala Salwala, Dehradun': 843,\n",
              " '138/345, Rajpur Road, Jakhan, Dehradun': 844,\n",
              " '140 A, Rajpur Road, Jakhan, Dehradun': 845,\n",
              " 'Rajpur Road, Jakhan, Dehradun': 846,\n",
              " 'Saina Inn, 3, Old Survey Road, Karanpur, Dehradun': 847,\n",
              " \"Hotel White House, Behind St. Joseph's Academy, Subhash Road, Karanpur, Dehradun\": 848,\n",
              " '102 Yamuna Colony, Above Punjab National Bank, Chakrata Road, Dehradun': 849,\n",
              " 'Khala Gaon, Near Shiv Mandir, Malsi, Dehradun': 850,\n",
              " 'UG 03, Pacific Mall, Rajpur Road, Jakhan, Dehradun': 851,\n",
              " '43, Gandhi Road, Paltan Bazaar, Dehradun': 852,\n",
              " '5, Pritam Road, Dalanwala, Near Race Course, Dehradun': 853,\n",
              " 'Chaudhary Plaza, Rajpur Road, Rajpur, Dehradun': 854,\n",
              " '3, Astley Hall, Rajpur Road, Rajpur, Dehradun': 855,\n",
              " 'Near Shehanshahi Ashram, Old Mussorie Road, Rajpur, Dehradun': 856,\n",
              " 'Mussourie Diversion, Pacific Hills,Rajpur Road, Rajpur, Dehradun': 857,\n",
              " '88, Opposite Osho, Chander Lok Colony, Rajpur Road, Rajpur, Dehradun': 858,\n",
              " ...}"
            ]
          },
          "metadata": {},
          "execution_count": 46
        }
      ]
    },
    {
      "cell_type": "code",
      "source": [
        "pd.set_option('display.max_columns', 500)"
      ],
      "metadata": {
        "id": "56p8xR-1umc4"
      },
      "execution_count": 29,
      "outputs": []
    },
    {
      "cell_type": "code",
      "source": [
        "df[df['Average Cost for two']=='?']"
      ],
      "metadata": {
        "colab": {
          "base_uri": "https://localhost:8080/",
          "height": 280
        },
        "id": "jC7XtGOzWXMM",
        "outputId": "b60a8167-3962-47f4-8adf-fd1b7f507b65"
      },
      "execution_count": 32,
      "outputs": [
        {
          "output_type": "execute_result",
          "data": {
            "text/plain": [
              "      Restaurant ID          Restaurant Name  Country Code  City  Address  \\\n",
              "19          6308205  Wildflour Cafe + Bakery           162     8       19   \n",
              "9542        5926979           Leman Kí_ltí_r           208   140     8909   \n",
              "\n",
              "      Locality  Locality Verbose   Longitude   Latitude  Cuisines  \\\n",
              "19          14                14  121.046220  14.549337        16   \n",
              "9542      1203              1260   29.022805  40.989705      1821   \n",
              "\n",
              "     Average Cost for two  Currency  Has Table booking  Has Online delivery  \\\n",
              "19                      ?         0                  0                    0   \n",
              "9542                    ?        11                  1                    0   \n",
              "\n",
              "      Is delivering now  Switch to order menu  Price range  Aggregate rating  \\\n",
              "19                    0                     0            1               4.4   \n",
              "9542                  0                     0            0               3.7   \n",
              "\n",
              "      Rating color  Rating text  Votes  \n",
              "19               1            1    392  \n",
              "9542             2            2    506  "
            ],
            "text/html": [
              "\n",
              "  <div id=\"df-51c773a5-2716-44a2-ae7a-57495d3f759c\">\n",
              "    <div class=\"colab-df-container\">\n",
              "      <div>\n",
              "<style scoped>\n",
              "    .dataframe tbody tr th:only-of-type {\n",
              "        vertical-align: middle;\n",
              "    }\n",
              "\n",
              "    .dataframe tbody tr th {\n",
              "        vertical-align: top;\n",
              "    }\n",
              "\n",
              "    .dataframe thead th {\n",
              "        text-align: right;\n",
              "    }\n",
              "</style>\n",
              "<table border=\"1\" class=\"dataframe\">\n",
              "  <thead>\n",
              "    <tr style=\"text-align: right;\">\n",
              "      <th></th>\n",
              "      <th>Restaurant ID</th>\n",
              "      <th>Restaurant Name</th>\n",
              "      <th>Country Code</th>\n",
              "      <th>City</th>\n",
              "      <th>Address</th>\n",
              "      <th>Locality</th>\n",
              "      <th>Locality Verbose</th>\n",
              "      <th>Longitude</th>\n",
              "      <th>Latitude</th>\n",
              "      <th>Cuisines</th>\n",
              "      <th>Average Cost for two</th>\n",
              "      <th>Currency</th>\n",
              "      <th>Has Table booking</th>\n",
              "      <th>Has Online delivery</th>\n",
              "      <th>Is delivering now</th>\n",
              "      <th>Switch to order menu</th>\n",
              "      <th>Price range</th>\n",
              "      <th>Aggregate rating</th>\n",
              "      <th>Rating color</th>\n",
              "      <th>Rating text</th>\n",
              "      <th>Votes</th>\n",
              "    </tr>\n",
              "  </thead>\n",
              "  <tbody>\n",
              "    <tr>\n",
              "      <th>19</th>\n",
              "      <td>6308205</td>\n",
              "      <td>Wildflour Cafe + Bakery</td>\n",
              "      <td>162</td>\n",
              "      <td>8</td>\n",
              "      <td>19</td>\n",
              "      <td>14</td>\n",
              "      <td>14</td>\n",
              "      <td>121.046220</td>\n",
              "      <td>14.549337</td>\n",
              "      <td>16</td>\n",
              "      <td>?</td>\n",
              "      <td>0</td>\n",
              "      <td>0</td>\n",
              "      <td>0</td>\n",
              "      <td>0</td>\n",
              "      <td>0</td>\n",
              "      <td>1</td>\n",
              "      <td>4.4</td>\n",
              "      <td>1</td>\n",
              "      <td>1</td>\n",
              "      <td>392</td>\n",
              "    </tr>\n",
              "    <tr>\n",
              "      <th>9542</th>\n",
              "      <td>5926979</td>\n",
              "      <td>Leman Kí_ltí_r</td>\n",
              "      <td>208</td>\n",
              "      <td>140</td>\n",
              "      <td>8909</td>\n",
              "      <td>1203</td>\n",
              "      <td>1260</td>\n",
              "      <td>29.022805</td>\n",
              "      <td>40.989705</td>\n",
              "      <td>1821</td>\n",
              "      <td>?</td>\n",
              "      <td>11</td>\n",
              "      <td>1</td>\n",
              "      <td>0</td>\n",
              "      <td>0</td>\n",
              "      <td>0</td>\n",
              "      <td>0</td>\n",
              "      <td>3.7</td>\n",
              "      <td>2</td>\n",
              "      <td>2</td>\n",
              "      <td>506</td>\n",
              "    </tr>\n",
              "  </tbody>\n",
              "</table>\n",
              "</div>\n",
              "      <button class=\"colab-df-convert\" onclick=\"convertToInteractive('df-51c773a5-2716-44a2-ae7a-57495d3f759c')\"\n",
              "              title=\"Convert this dataframe to an interactive table.\"\n",
              "              style=\"display:none;\">\n",
              "        \n",
              "  <svg xmlns=\"http://www.w3.org/2000/svg\" height=\"24px\"viewBox=\"0 0 24 24\"\n",
              "       width=\"24px\">\n",
              "    <path d=\"M0 0h24v24H0V0z\" fill=\"none\"/>\n",
              "    <path d=\"M18.56 5.44l.94 2.06.94-2.06 2.06-.94-2.06-.94-.94-2.06-.94 2.06-2.06.94zm-11 1L8.5 8.5l.94-2.06 2.06-.94-2.06-.94L8.5 2.5l-.94 2.06-2.06.94zm10 10l.94 2.06.94-2.06 2.06-.94-2.06-.94-.94-2.06-.94 2.06-2.06.94z\"/><path d=\"M17.41 7.96l-1.37-1.37c-.4-.4-.92-.59-1.43-.59-.52 0-1.04.2-1.43.59L10.3 9.45l-7.72 7.72c-.78.78-.78 2.05 0 2.83L4 21.41c.39.39.9.59 1.41.59.51 0 1.02-.2 1.41-.59l7.78-7.78 2.81-2.81c.8-.78.8-2.07 0-2.86zM5.41 20L4 18.59l7.72-7.72 1.47 1.35L5.41 20z\"/>\n",
              "  </svg>\n",
              "      </button>\n",
              "      \n",
              "  <style>\n",
              "    .colab-df-container {\n",
              "      display:flex;\n",
              "      flex-wrap:wrap;\n",
              "      gap: 12px;\n",
              "    }\n",
              "\n",
              "    .colab-df-convert {\n",
              "      background-color: #E8F0FE;\n",
              "      border: none;\n",
              "      border-radius: 50%;\n",
              "      cursor: pointer;\n",
              "      display: none;\n",
              "      fill: #1967D2;\n",
              "      height: 32px;\n",
              "      padding: 0 0 0 0;\n",
              "      width: 32px;\n",
              "    }\n",
              "\n",
              "    .colab-df-convert:hover {\n",
              "      background-color: #E2EBFA;\n",
              "      box-shadow: 0px 1px 2px rgba(60, 64, 67, 0.3), 0px 1px 3px 1px rgba(60, 64, 67, 0.15);\n",
              "      fill: #174EA6;\n",
              "    }\n",
              "\n",
              "    [theme=dark] .colab-df-convert {\n",
              "      background-color: #3B4455;\n",
              "      fill: #D2E3FC;\n",
              "    }\n",
              "\n",
              "    [theme=dark] .colab-df-convert:hover {\n",
              "      background-color: #434B5C;\n",
              "      box-shadow: 0px 1px 3px 1px rgba(0, 0, 0, 0.15);\n",
              "      filter: drop-shadow(0px 1px 2px rgba(0, 0, 0, 0.3));\n",
              "      fill: #FFFFFF;\n",
              "    }\n",
              "  </style>\n",
              "\n",
              "      <script>\n",
              "        const buttonEl =\n",
              "          document.querySelector('#df-51c773a5-2716-44a2-ae7a-57495d3f759c button.colab-df-convert');\n",
              "        buttonEl.style.display =\n",
              "          google.colab.kernel.accessAllowed ? 'block' : 'none';\n",
              "\n",
              "        async function convertToInteractive(key) {\n",
              "          const element = document.querySelector('#df-51c773a5-2716-44a2-ae7a-57495d3f759c');\n",
              "          const dataTable =\n",
              "            await google.colab.kernel.invokeFunction('convertToInteractive',\n",
              "                                                     [key], {});\n",
              "          if (!dataTable) return;\n",
              "\n",
              "          const docLinkHtml = 'Like what you see? Visit the ' +\n",
              "            '<a target=\"_blank\" href=https://colab.research.google.com/notebooks/data_table.ipynb>data table notebook</a>'\n",
              "            + ' to learn more about interactive tables.';\n",
              "          element.innerHTML = '';\n",
              "          dataTable['output_type'] = 'display_data';\n",
              "          await google.colab.output.renderOutput(dataTable, element);\n",
              "          const docLink = document.createElement('div');\n",
              "          docLink.innerHTML = docLinkHtml;\n",
              "          element.appendChild(docLink);\n",
              "        }\n",
              "      </script>\n",
              "    </div>\n",
              "  </div>\n",
              "  "
            ]
          },
          "metadata": {},
          "execution_count": 32
        }
      ]
    },
    {
      "cell_type": "code",
      "source": [
        "df = df.replace('?',np.nan)"
      ],
      "metadata": {
        "id": "xbR8NXGEt7w-"
      },
      "execution_count": 33,
      "outputs": []
    },
    {
      "cell_type": "code",
      "source": [
        "df = df.replace('&',np.nan)"
      ],
      "metadata": {
        "id": "wLoNh2W9vkMC"
      },
      "execution_count": 34,
      "outputs": []
    },
    {
      "cell_type": "code",
      "source": [
        "df = df.replace('*',np.nan)"
      ],
      "metadata": {
        "id": "wUvTdP3Gvx07"
      },
      "execution_count": 35,
      "outputs": []
    },
    {
      "cell_type": "code",
      "source": [
        "df.dtypes"
      ],
      "metadata": {
        "colab": {
          "base_uri": "https://localhost:8080/"
        },
        "id": "fpyr34JgvSVt",
        "outputId": "32f760d5-c16a-42d2-f9d2-efa48655da30"
      },
      "execution_count": 36,
      "outputs": [
        {
          "output_type": "execute_result",
          "data": {
            "text/plain": [
              "Restaurant ID             int64\n",
              "Restaurant Name          object\n",
              "Country Code              int64\n",
              "City                      int64\n",
              "Address                   int64\n",
              "Locality                  int64\n",
              "Locality Verbose          int64\n",
              "Longitude               float64\n",
              "Latitude                float64\n",
              "Cuisines                  int64\n",
              "Average Cost for two     object\n",
              "Currency                  int64\n",
              "Has Table booking         int64\n",
              "Has Online delivery       int64\n",
              "Is delivering now         int64\n",
              "Switch to order menu      int64\n",
              "Price range               int64\n",
              "Aggregate rating        float64\n",
              "Rating color              int64\n",
              "Rating text               int64\n",
              "Votes                     int64\n",
              "dtype: object"
            ]
          },
          "metadata": {},
          "execution_count": 36
        }
      ]
    },
    {
      "cell_type": "code",
      "source": [
        "df['Average Cost for two'] = df['Average Cost for two'].astype(float)"
      ],
      "metadata": {
        "id": "W5EKeDw4va2_"
      },
      "execution_count": 37,
      "outputs": []
    },
    {
      "cell_type": "code",
      "source": [
        "df.dtypes"
      ],
      "metadata": {
        "colab": {
          "base_uri": "https://localhost:8080/"
        },
        "id": "DemPLMSUO_o5",
        "outputId": "70eeeb65-a48c-4e5f-a14b-92c71bf3c552"
      },
      "execution_count": 38,
      "outputs": [
        {
          "output_type": "execute_result",
          "data": {
            "text/plain": [
              "Restaurant ID             int64\n",
              "Restaurant Name          object\n",
              "Country Code              int64\n",
              "City                      int64\n",
              "Address                   int64\n",
              "Locality                  int64\n",
              "Locality Verbose          int64\n",
              "Longitude               float64\n",
              "Latitude                float64\n",
              "Cuisines                  int64\n",
              "Average Cost for two    float64\n",
              "Currency                  int64\n",
              "Has Table booking         int64\n",
              "Has Online delivery       int64\n",
              "Is delivering now         int64\n",
              "Switch to order menu      int64\n",
              "Price range               int64\n",
              "Aggregate rating        float64\n",
              "Rating color              int64\n",
              "Rating text               int64\n",
              "Votes                     int64\n",
              "dtype: object"
            ]
          },
          "metadata": {},
          "execution_count": 38
        }
      ]
    },
    {
      "cell_type": "code",
      "source": [
        "df.isnull().sum()"
      ],
      "metadata": {
        "colab": {
          "base_uri": "https://localhost:8080/"
        },
        "id": "RM88lbxFXCic",
        "outputId": "48c7de73-4235-483d-ce96-8e8840a30fc2"
      },
      "execution_count": 39,
      "outputs": [
        {
          "output_type": "execute_result",
          "data": {
            "text/plain": [
              "Restaurant ID           0\n",
              "Restaurant Name         0\n",
              "Country Code            0\n",
              "City                    0\n",
              "Address                 0\n",
              "Locality                0\n",
              "Locality Verbose        0\n",
              "Longitude               0\n",
              "Latitude                0\n",
              "Cuisines                0\n",
              "Average Cost for two    9\n",
              "Currency                0\n",
              "Has Table booking       0\n",
              "Has Online delivery     0\n",
              "Is delivering now       0\n",
              "Switch to order menu    0\n",
              "Price range             0\n",
              "Aggregate rating        0\n",
              "Rating color            0\n",
              "Rating text             0\n",
              "Votes                   0\n",
              "dtype: int64"
            ]
          },
          "metadata": {},
          "execution_count": 39
        }
      ]
    },
    {
      "cell_type": "code",
      "source": [
        "df['Average Cost for two'] = df['Average Cost for two'].fillna(df['Average Cost for two'].median())"
      ],
      "metadata": {
        "id": "aNVVj5z8uiyq"
      },
      "execution_count": 40,
      "outputs": []
    },
    {
      "cell_type": "code",
      "source": [
        "df.isnull().sum()"
      ],
      "metadata": {
        "colab": {
          "base_uri": "https://localhost:8080/"
        },
        "id": "jb8w4fiIv-sJ",
        "outputId": "7ebcdb8c-d8aa-4845-8693-0b3345df39bc"
      },
      "execution_count": 41,
      "outputs": [
        {
          "output_type": "execute_result",
          "data": {
            "text/plain": [
              "Restaurant ID           0\n",
              "Restaurant Name         0\n",
              "Country Code            0\n",
              "City                    0\n",
              "Address                 0\n",
              "Locality                0\n",
              "Locality Verbose        0\n",
              "Longitude               0\n",
              "Latitude                0\n",
              "Cuisines                0\n",
              "Average Cost for two    0\n",
              "Currency                0\n",
              "Has Table booking       0\n",
              "Has Online delivery     0\n",
              "Is delivering now       0\n",
              "Switch to order menu    0\n",
              "Price range             0\n",
              "Aggregate rating        0\n",
              "Rating color            0\n",
              "Rating text             0\n",
              "Votes                   0\n",
              "dtype: int64"
            ]
          },
          "metadata": {},
          "execution_count": 41
        }
      ]
    },
    {
      "cell_type": "code",
      "source": [
        "num_cols = ['Longitude','Latitude','Average Cost for two','Aggregate rating','Votes']\n",
        "for i in num_cols:\n",
        "  plt.boxplot(df[i])\n",
        "  plt.title(i)\n",
        "  plt.show() \n",
        "    "
      ],
      "metadata": {
        "colab": {
          "base_uri": "https://localhost:8080/",
          "height": 1000
        },
        "id": "bF_OpmEDyUOH",
        "outputId": "a00d5042-e730-4917-f304-e7a45308c29d"
      },
      "execution_count": 42,
      "outputs": [
        {
          "output_type": "display_data",
          "data": {
            "text/plain": [
              "<Figure size 432x288 with 1 Axes>"
            ],
            "image/png": "[encoded data removed]"
          },
          "metadata": {
            "needs_background": "light"
          }
        },
        {
          "output_type": "display_data",
          "data": {
            "text/plain": [
              "<Figure size 432x288 with 1 Axes>"
            ],
            "image/png": "[encoded data removed]"
          },
          "metadata": {
            "needs_background": "light"
          }
        },
        {
          "output_type": "display_data",
          "data": {
            "text/plain": [
              "<Figure size 432x288 with 1 Axes>"
            ],
            "image/png": "[encoded data removed]"
          },
          "metadata": {
            "needs_background": "light"
          }
        },
        {
          "output_type": "display_data",
          "data": {
            "text/plain": [
              "<Figure size 432x288 with 1 Axes>"
            ],
            "image/png": "[encoded data removed]"
          },
          "metadata": {
            "needs_background": "light"
          }
        },
        {
          "output_type": "display_data",
          "data": {
            "text/plain": [
              "<Figure size 432x288 with 1 Axes>"
            ],
            "image/png": "[encoded data removed]"
          },
          "metadata": {
            "needs_background": "light"
          }
        }
      ]
    },
    {
      "cell_type": "code",
      "source": [
        "df[num_cols].describe()"
      ],
      "metadata": {
        "colab": {
          "base_uri": "https://localhost:8080/",
          "height": 300
        },
        "id": "ryxmSFn20gO6",
        "outputId": "6c01e1b2-5ce3-4319-c02e-f268d6f3a834"
      },
      "execution_count": 43,
      "outputs": [
        {
          "output_type": "execute_result",
          "data": {
            "text/plain": [
              "         Longitude     Latitude  Average Cost for two  Aggregate rating  \\\n",
              "count  9551.000000  9551.000000           9551.000000       9551.000000   \n",
              "mean     64.126574    25.854381           1199.013925          2.666370   \n",
              "std      41.467058    11.007935          16121.176991          1.516378   \n",
              "min    -157.948486   -41.330428              0.000000          0.000000   \n",
              "25%      77.081343    28.478713            250.000000          2.500000   \n",
              "50%      77.191964    28.570469            400.000000          3.200000   \n",
              "75%      77.282006    28.642758            700.000000          3.700000   \n",
              "max     174.832089    55.976980         800000.000000          4.900000   \n",
              "\n",
              "              Votes  \n",
              "count   9551.000000  \n",
              "mean     168.055910  \n",
              "std      458.923467  \n",
              "min        0.000000  \n",
              "25%        5.000000  \n",
              "50%       31.000000  \n",
              "75%      134.500000  \n",
              "max    10934.000000  "
            ],
            "text/html": [
              "\n",
              "  <div id=\"df-2c5936e9-2b34-4b64-a871-844d6c16b68a\">\n",
              "    <div class=\"colab-df-container\">\n",
              "      <div>\n",
              "<style scoped>\n",
              "    .dataframe tbody tr th:only-of-type {\n",
              "        vertical-align: middle;\n",
              "    }\n",
              "\n",
              "    .dataframe tbody tr th {\n",
              "        vertical-align: top;\n",
              "    }\n",
              "\n",
              "    .dataframe thead th {\n",
              "        text-align: right;\n",
              "    }\n",
              "</style>\n",
              "<table border=\"1\" class=\"dataframe\">\n",
              "  <thead>\n",
              "    <tr style=\"text-align: right;\">\n",
              "      <th></th>\n",
              "      <th>Longitude</th>\n",
              "      <th>Latitude</th>\n",
              "      <th>Average Cost for two</th>\n",
              "      <th>Aggregate rating</th>\n",
              "      <th>Votes</th>\n",
              "    </tr>\n",
              "  </thead>\n",
              "  <tbody>\n",
              "    <tr>\n",
              "      <th>count</th>\n",
              "      <td>9551.000000</td>\n",
              "      <td>9551.000000</td>\n",
              "      <td>9551.000000</td>\n",
              "      <td>9551.000000</td>\n",
              "      <td>9551.000000</td>\n",
              "    </tr>\n",
              "    <tr>\n",
              "      <th>mean</th>\n",
              "      <td>64.126574</td>\n",
              "      <td>25.854381</td>\n",
              "      <td>1199.013925</td>\n",
              "      <td>2.666370</td>\n",
              "      <td>168.055910</td>\n",
              "    </tr>\n",
              "    <tr>\n",
              "      <th>std</th>\n",
              "      <td>41.467058</td>\n",
              "      <td>11.007935</td>\n",
              "      <td>16121.176991</td>\n",
              "      <td>1.516378</td>\n",
              "      <td>458.923467</td>\n",
              "    </tr>\n",
              "    <tr>\n",
              "      <th>min</th>\n",
              "      <td>-157.948486</td>\n",
              "      <td>-41.330428</td>\n",
              "      <td>0.000000</td>\n",
              "      <td>0.000000</td>\n",
              "      <td>0.000000</td>\n",
              "    </tr>\n",
              "    <tr>\n",
              "      <th>25%</th>\n",
              "      <td>77.081343</td>\n",
              "      <td>28.478713</td>\n",
              "      <td>250.000000</td>\n",
              "      <td>2.500000</td>\n",
              "      <td>5.000000</td>\n",
              "    </tr>\n",
              "    <tr>\n",
              "      <th>50%</th>\n",
              "      <td>77.191964</td>\n",
              "      <td>28.570469</td>\n",
              "      <td>400.000000</td>\n",
              "      <td>3.200000</td>\n",
              "      <td>31.000000</td>\n",
              "    </tr>\n",
              "    <tr>\n",
              "      <th>75%</th>\n",
              "      <td>77.282006</td>\n",
              "      <td>28.642758</td>\n",
              "      <td>700.000000</td>\n",
              "      <td>3.700000</td>\n",
              "      <td>134.500000</td>\n",
              "    </tr>\n",
              "    <tr>\n",
              "      <th>max</th>\n",
              "      <td>174.832089</td>\n",
              "      <td>55.976980</td>\n",
              "      <td>800000.000000</td>\n",
              "      <td>4.900000</td>\n",
              "      <td>10934.000000</td>\n",
              "    </tr>\n",
              "  </tbody>\n",
              "</table>\n",
              "</div>\n",
              "      <button class=\"colab-df-convert\" onclick=\"convertToInteractive('df-2c5936e9-2b34-4b64-a871-844d6c16b68a')\"\n",
              "              title=\"Convert this dataframe to an interactive table.\"\n",
              "              style=\"display:none;\">\n",
              "        \n",
              "  <svg xmlns=\"http://www.w3.org/2000/svg\" height=\"24px\"viewBox=\"0 0 24 24\"\n",
              "       width=\"24px\">\n",
              "    <path d=\"M0 0h24v24H0V0z\" fill=\"none\"/>\n",
              "    <path d=\"M18.56 5.44l.94 2.06.94-2.06 2.06-.94-2.06-.94-.94-2.06-.94 2.06-2.06.94zm-11 1L8.5 8.5l.94-2.06 2.06-.94-2.06-.94L8.5 2.5l-.94 2.06-2.06.94zm10 10l.94 2.06.94-2.06 2.06-.94-2.06-.94-.94-2.06-.94 2.06-2.06.94z\"/><path d=\"M17.41 7.96l-1.37-1.37c-.4-.4-.92-.59-1.43-.59-.52 0-1.04.2-1.43.59L10.3 9.45l-7.72 7.72c-.78.78-.78 2.05 0 2.83L4 21.41c.39.39.9.59 1.41.59.51 0 1.02-.2 1.41-.59l7.78-7.78 2.81-2.81c.8-.78.8-2.07 0-2.86zM5.41 20L4 18.59l7.72-7.72 1.47 1.35L5.41 20z\"/>\n",
              "  </svg>\n",
              "      </button>\n",
              "      \n",
              "  <style>\n",
              "    .colab-df-container {\n",
              "      display:flex;\n",
              "      flex-wrap:wrap;\n",
              "      gap: 12px;\n",
              "    }\n",
              "\n",
              "    .colab-df-convert {\n",
              "      background-color: #E8F0FE;\n",
              "      border: none;\n",
              "      border-radius: 50%;\n",
              "      cursor: pointer;\n",
              "      display: none;\n",
              "      fill: #1967D2;\n",
              "      height: 32px;\n",
              "      padding: 0 0 0 0;\n",
              "      width: 32px;\n",
              "    }\n",
              "\n",
              "    .colab-df-convert:hover {\n",
              "      background-color: #E2EBFA;\n",
              "      box-shadow: 0px 1px 2px rgba(60, 64, 67, 0.3), 0px 1px 3px 1px rgba(60, 64, 67, 0.15);\n",
              "      fill: #174EA6;\n",
              "    }\n",
              "\n",
              "    [theme=dark] .colab-df-convert {\n",
              "      background-color: #3B4455;\n",
              "      fill: #D2E3FC;\n",
              "    }\n",
              "\n",
              "    [theme=dark] .colab-df-convert:hover {\n",
              "      background-color: #434B5C;\n",
              "      box-shadow: 0px 1px 3px 1px rgba(0, 0, 0, 0.15);\n",
              "      filter: drop-shadow(0px 1px 2px rgba(0, 0, 0, 0.3));\n",
              "      fill: #FFFFFF;\n",
              "    }\n",
              "  </style>\n",
              "\n",
              "      <script>\n",
              "        const buttonEl =\n",
              "          document.querySelector('#df-2c5936e9-2b34-4b64-a871-844d6c16b68a button.colab-df-convert');\n",
              "        buttonEl.style.display =\n",
              "          google.colab.kernel.accessAllowed ? 'block' : 'none';\n",
              "\n",
              "        async function convertToInteractive(key) {\n",
              "          const element = document.querySelector('#df-2c5936e9-2b34-4b64-a871-844d6c16b68a');\n",
              "          const dataTable =\n",
              "            await google.colab.kernel.invokeFunction('convertToInteractive',\n",
              "                                                     [key], {});\n",
              "          if (!dataTable) return;\n",
              "\n",
              "          const docLinkHtml = 'Like what you see? Visit the ' +\n",
              "            '<a target=\"_blank\" href=https://colab.research.google.com/notebooks/data_table.ipynb>data table notebook</a>'\n",
              "            + ' to learn more about interactive tables.';\n",
              "          element.innerHTML = '';\n",
              "          dataTable['output_type'] = 'display_data';\n",
              "          await google.colab.output.renderOutput(dataTable, element);\n",
              "          const docLink = document.createElement('div');\n",
              "          docLink.innerHTML = docLinkHtml;\n",
              "          element.appendChild(docLink);\n",
              "        }\n",
              "      </script>\n",
              "    </div>\n",
              "  </div>\n",
              "  "
            ]
          },
          "metadata": {},
          "execution_count": 43
        }
      ]
    },
    {
      "cell_type": "code",
      "source": [
        "plt.figure(figsize=(16,10))\n",
        "sns.heatmap(df.corr(), annot=True)\n",
        "plt.title('correlation between the columns')\n",
        "plt.show()"
      ],
      "metadata": {
        "colab": {
          "base_uri": "https://localhost:8080/",
          "height": 705
        },
        "id": "b4c4bb3eQLU3",
        "outputId": "b6eb524f-8f0a-4c70-bba6-4a1fd9faabb7"
      },
      "execution_count": 44,
      "outputs": [
        {
          "output_type": "display_data",
          "data": {
            "text/plain": [
              "<Figure size 1152x720 with 2 Axes>"
            ],
            "image/png": "[encoded data removed]"
          },
          "metadata": {
            "needs_background": "light"
          }
        }
      ]
    },
    {
      "cell_type": "code",
      "source": [
        "df = df.drop(['Locality Verbose'],axis=1)"
      ],
      "metadata": {
        "id": "HH6HXxV-Qx9e"
      },
      "execution_count": 45,
      "outputs": []
    }
  ]
}